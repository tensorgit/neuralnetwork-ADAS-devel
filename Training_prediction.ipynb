{
 "cells": [
  {
   "cell_type": "markdown",
   "metadata": {},
   "source": [
    "# Training the ANN on the dataset\n",
    "\n",
    "**Workflow**\n",
    "* Upload the training and test datsets to S3 \n",
    "* Train and save the ANN model for later use\n",
    "* Test model performance on test and validation data\n",
    "* Re-architect the neural network as necessary based on the previous model's accuracy\n",
    "* Upload new training data. Combine with original dataset\n",
    "* Train the ANN on updated dataset\n",
    "* Recommendation: Use the trained model to recommend features values such that collision does not occur \n",
    "\n",
    "\n",
    "*Note: We will not be deploying the model for inference since it is consumes time and is not required. Instead we load the saved model which is then used for predictions* "
   ]
  },
  {
   "cell_type": "markdown",
   "metadata": {},
   "source": [
    "Import libraries"
   ]
  },
  {
   "cell_type": "code",
   "execution_count": 1,
   "metadata": {},
   "outputs": [
    {
     "name": "stdout",
     "output_type": "stream",
     "text": [
      "WARNING:tensorflow:From /home/ec2-user/anaconda3/envs/tensorflow_p36/cpu/lib/python3.6/site-packages/tensorflow_core/__init__.py:1473: The name tf.estimator.inputs is deprecated. Please use tf.compat.v1.estimator.inputs instead.\n",
      "\n"
     ]
    }
   ],
   "source": [
    "import pandas as pd\n",
    "import boto3\n",
    "import sagemaker\n",
    "import tensorflow as tf\n",
    "import numpy as np\n",
    "import os"
   ]
  },
  {
   "cell_type": "code",
   "execution_count": 2,
   "metadata": {},
   "outputs": [],
   "source": [
    "# session and role\n",
    "sagemaker_session = sagemaker.Session()\n",
    "role = sagemaker.get_execution_role()\n",
    "\n",
    "# create an S3 bucket\n",
    "bucket = sagemaker_session.default_bucket()"
   ]
  },
  {
   "cell_type": "markdown",
   "metadata": {},
   "source": [
    "## Upload the training and test data to S3"
   ]
  },
  {
   "cell_type": "code",
   "execution_count": 4,
   "metadata": {},
   "outputs": [
    {
     "name": "stdout",
     "output_type": "stream",
     "text": [
      "s3://sagemaker-us-east-1-286722933665/capstone_edgecase\n"
     ]
    }
   ],
   "source": [
    "# should be the name of directory you created to save your features data\n",
    "data_dir = 'data/train_test'\n",
    "\n",
    "# set prefix, a descriptive name for a directory  \n",
    "prefix = 'capstone_edgecase'\n",
    "\n",
    "# upload all data to S3\n",
    "input_data = sagemaker_session.upload_data(path=data_dir, bucket=bucket, key_prefix=prefix)\n",
    "print(input_data)"
   ]
  },
  {
   "cell_type": "markdown",
   "metadata": {},
   "source": [
    "## Modelling"
   ]
  },
  {
   "cell_type": "code",
   "execution_count": 113,
   "metadata": {},
   "outputs": [],
   "source": [
    "#!pygmentize source_tfkeras/train.py"
   ]
  },
  {
   "cell_type": "markdown",
   "metadata": {},
   "source": [
    "We start with 2 hidden layers and 10 epochs to check the loss and also if the training process works without errors"
   ]
  },
  {
   "cell_type": "markdown",
   "metadata": {},
   "source": [
    "## Create an Estimator"
   ]
  },
  {
   "cell_type": "code",
   "execution_count": 130,
   "metadata": {},
   "outputs": [
    {
     "name": "stderr",
     "output_type": "stream",
     "text": [
      "train_instance_type has been renamed in sagemaker>=2.\n",
      "See: https://sagemaker.readthedocs.io/en/stable/v2.html for details.\n",
      "train_instance_count has been renamed in sagemaker>=2.\n",
      "See: https://sagemaker.readthedocs.io/en/stable/v2.html for details.\n",
      "train_instance_type has been renamed in sagemaker>=2.\n",
      "See: https://sagemaker.readthedocs.io/en/stable/v2.html for details.\n"
     ]
    }
   ],
   "source": [
    "from sagemaker.tensorflow import TensorFlow\n",
    "#model_dir = 's3://{}/{}/output/'.format(bucket, prefix) # you need add an estimator argument with this too\n",
    "\n",
    "estimator = TensorFlow(entry_point=\"train.py\",\n",
    "                    source_dir=\"source_tfkeras\",\n",
    "                    role=role,\n",
    "                    py_version = 'py37',\n",
    "                    framework_version='2.4', # v2.5 is unsupported\n",
    "                    script_mode=True,\n",
    "                    train_instance_count=1,\n",
    "                    train_instance_type='ml.c5.xlarge')"
   ]
  },
  {
   "cell_type": "markdown",
   "metadata": {},
   "source": [
    "## Train the Estimator"
   ]
  },
  {
   "cell_type": "code",
   "execution_count": 131,
   "metadata": {},
   "outputs": [
    {
     "name": "stdout",
     "output_type": "stream",
     "text": [
      "2021-06-24 23:25:47 Starting - Starting the training job...\n",
      "2021-06-24 23:26:10 Starting - Launching requested ML instancesProfilerReport-1624577146: InProgress\n",
      "......\n",
      "2021-06-24 23:27:10 Starting - Preparing the instances for training......\n",
      "2021-06-24 23:28:10 Downloading - Downloading input data...\n",
      "2021-06-24 23:28:36 Training - Downloading the training image..\u001b[34m2021-06-24 23:28:52.982107: W tensorflow/core/profiler/internal/smprofiler_timeline.cc:460] Initializing the SageMaker Profiler.\u001b[0m\n",
      "\u001b[34m2021-06-24 23:28:52.989853: W tensorflow/core/profiler/internal/smprofiler_timeline.cc:105] SageMaker Profiler is not enabled. The timeline writer thread will not be started, future recorded events will be dropped.\u001b[0m\n",
      "\u001b[34m2021-06-24 23:28:53.172223: W tensorflow/core/profiler/internal/smprofiler_timeline.cc:460] Initializing the SageMaker Profiler.\u001b[0m\n",
      "\u001b[34m2021-06-24 23:28:56,965 sagemaker-training-toolkit INFO     Imported framework sagemaker_tensorflow_container.training\u001b[0m\n",
      "\u001b[34m2021-06-24 23:28:56,971 sagemaker-training-toolkit INFO     No GPUs detected (normal if no gpus installed)\u001b[0m\n",
      "\u001b[34m2021-06-24 23:28:57,392 sagemaker-training-toolkit INFO     No GPUs detected (normal if no gpus installed)\u001b[0m\n",
      "\u001b[34m2021-06-24 23:28:57,407 sagemaker-training-toolkit INFO     No GPUs detected (normal if no gpus installed)\u001b[0m\n",
      "\u001b[34m2021-06-24 23:28:57,422 sagemaker-training-toolkit INFO     No GPUs detected (normal if no gpus installed)\u001b[0m\n",
      "\u001b[34m2021-06-24 23:28:57,432 sagemaker-training-toolkit INFO     Invoking user script\n",
      "\u001b[0m\n",
      "\u001b[34mTraining Env:\n",
      "\u001b[0m\n",
      "\u001b[34m{\n",
      "    \"additional_framework_parameters\": {},\n",
      "    \"channel_input_dirs\": {\n",
      "        \"train\": \"/opt/ml/input/data/train\"\n",
      "    },\n",
      "    \"current_host\": \"algo-1\",\n",
      "    \"framework_module\": \"sagemaker_tensorflow_container.training:main\",\n",
      "    \"hosts\": [\n",
      "        \"algo-1\"\n",
      "    ],\n",
      "    \"hyperparameters\": {\n",
      "        \"model_dir\": \"s3://sagemaker-us-east-1-286722933665/tensorflow-training-2021-06-24-23-25-46-613/model\"\n",
      "    },\n",
      "    \"input_config_dir\": \"/opt/ml/input/config\",\n",
      "    \"input_data_config\": {\n",
      "        \"train\": {\n",
      "            \"TrainingInputMode\": \"File\",\n",
      "            \"S3DistributionType\": \"FullyReplicated\",\n",
      "            \"RecordWrapperType\": \"None\"\n",
      "        }\n",
      "    },\n",
      "    \"input_dir\": \"/opt/ml/input\",\n",
      "    \"is_master\": true,\n",
      "    \"job_name\": \"tensorflow-training-2021-06-24-23-25-46-613\",\n",
      "    \"log_level\": 20,\n",
      "    \"master_hostname\": \"algo-1\",\n",
      "    \"model_dir\": \"/opt/ml/model\",\n",
      "    \"module_dir\": \"s3://sagemaker-us-east-1-286722933665/tensorflow-training-2021-06-24-23-25-46-613/source/sourcedir.tar.gz\",\n",
      "    \"module_name\": \"train\",\n",
      "    \"network_interface_name\": \"eth0\",\n",
      "    \"num_cpus\": 4,\n",
      "    \"num_gpus\": 0,\n",
      "    \"output_data_dir\": \"/opt/ml/output/data\",\n",
      "    \"output_dir\": \"/opt/ml/output\",\n",
      "    \"output_intermediate_dir\": \"/opt/ml/output/intermediate\",\n",
      "    \"resource_config\": {\n",
      "        \"current_host\": \"algo-1\",\n",
      "        \"hosts\": [\n",
      "            \"algo-1\"\n",
      "        ],\n",
      "        \"network_interface_name\": \"eth0\"\n",
      "    },\n",
      "    \"user_entry_point\": \"train.py\"\u001b[0m\n",
      "\u001b[34m}\n",
      "\u001b[0m\n",
      "\u001b[34mEnvironment variables:\n",
      "\u001b[0m\n",
      "\u001b[34mSM_HOSTS=[\"algo-1\"]\u001b[0m\n",
      "\u001b[34mSM_NETWORK_INTERFACE_NAME=eth0\u001b[0m\n",
      "\u001b[34mSM_HPS={\"model_dir\":\"s3://sagemaker-us-east-1-286722933665/tensorflow-training-2021-06-24-23-25-46-613/model\"}\u001b[0m\n",
      "\u001b[34mSM_USER_ENTRY_POINT=train.py\u001b[0m\n",
      "\u001b[34mSM_FRAMEWORK_PARAMS={}\u001b[0m\n",
      "\u001b[34mSM_RESOURCE_CONFIG={\"current_host\":\"algo-1\",\"hosts\":[\"algo-1\"],\"network_interface_name\":\"eth0\"}\u001b[0m\n",
      "\u001b[34mSM_INPUT_DATA_CONFIG={\"train\":{\"RecordWrapperType\":\"None\",\"S3DistributionType\":\"FullyReplicated\",\"TrainingInputMode\":\"File\"}}\u001b[0m\n",
      "\u001b[34mSM_OUTPUT_DATA_DIR=/opt/ml/output/data\u001b[0m\n",
      "\u001b[34mSM_CHANNELS=[\"train\"]\u001b[0m\n",
      "\u001b[34mSM_CURRENT_HOST=algo-1\u001b[0m\n",
      "\u001b[34mSM_MODULE_NAME=train\u001b[0m\n",
      "\u001b[34mSM_LOG_LEVEL=20\u001b[0m\n",
      "\u001b[34mSM_FRAMEWORK_MODULE=sagemaker_tensorflow_container.training:main\u001b[0m\n",
      "\u001b[34mSM_INPUT_DIR=/opt/ml/input\u001b[0m\n",
      "\u001b[34mSM_INPUT_CONFIG_DIR=/opt/ml/input/config\u001b[0m\n",
      "\u001b[34mSM_OUTPUT_DIR=/opt/ml/output\u001b[0m\n",
      "\u001b[34mSM_NUM_CPUS=4\u001b[0m\n",
      "\u001b[34mSM_NUM_GPUS=0\u001b[0m\n",
      "\u001b[34mSM_MODEL_DIR=/opt/ml/model\u001b[0m\n",
      "\u001b[34mSM_MODULE_DIR=s3://sagemaker-us-east-1-286722933665/tensorflow-training-2021-06-24-23-25-46-613/source/sourcedir.tar.gz\u001b[0m\n",
      "\u001b[34mSM_TRAINING_ENV={\"additional_framework_parameters\":{},\"channel_input_dirs\":{\"train\":\"/opt/ml/input/data/train\"},\"current_host\":\"algo-1\",\"framework_module\":\"sagemaker_tensorflow_container.training:main\",\"hosts\":[\"algo-1\"],\"hyperparameters\":{\"model_dir\":\"s3://sagemaker-us-east-1-286722933665/tensorflow-training-2021-06-24-23-25-46-613/model\"},\"input_config_dir\":\"/opt/ml/input/config\",\"input_data_config\":{\"train\":{\"RecordWrapperType\":\"None\",\"S3DistributionType\":\"FullyReplicated\",\"TrainingInputMode\":\"File\"}},\"input_dir\":\"/opt/ml/input\",\"is_master\":true,\"job_name\":\"tensorflow-training-2021-06-24-23-25-46-613\",\"log_level\":20,\"master_hostname\":\"algo-1\",\"model_dir\":\"/opt/ml/model\",\"module_dir\":\"s3://sagemaker-us-east-1-286722933665/tensorflow-training-2021-06-24-23-25-46-613/source/sourcedir.tar.gz\",\"module_name\":\"train\",\"network_interface_name\":\"eth0\",\"num_cpus\":4,\"num_gpus\":0,\"output_data_dir\":\"/opt/ml/output/data\",\"output_dir\":\"/opt/ml/output\",\"output_intermediate_dir\":\"/opt/ml/output/intermediate\",\"resource_config\":{\"current_host\":\"algo-1\",\"hosts\":[\"algo-1\"],\"network_interface_name\":\"eth0\"},\"user_entry_point\":\"train.py\"}\u001b[0m\n",
      "\u001b[34mSM_USER_ARGS=[\"--model_dir\",\"s3://sagemaker-us-east-1-286722933665/tensorflow-training-2021-06-24-23-25-46-613/model\"]\u001b[0m\n",
      "\u001b[34mSM_OUTPUT_INTERMEDIATE_DIR=/opt/ml/output/intermediate\u001b[0m\n",
      "\u001b[34mSM_CHANNEL_TRAIN=/opt/ml/input/data/train\u001b[0m\n",
      "\u001b[34mSM_HP_MODEL_DIR=s3://sagemaker-us-east-1-286722933665/tensorflow-training-2021-06-24-23-25-46-613/model\u001b[0m\n",
      "\u001b[34mPYTHONPATH=/opt/ml/code:/usr/local/bin:/usr/local/lib/python37.zip:/usr/local/lib/python3.7:/usr/local/lib/python3.7/lib-dynload:/usr/local/lib/python3.7/site-packages\n",
      "\u001b[0m\n",
      "\u001b[34mInvoking script with the following command:\n",
      "\u001b[0m\n",
      "\u001b[34m/usr/local/bin/python3.7 train.py --model_dir s3://sagemaker-us-east-1-286722933665/tensorflow-training-2021-06-24-23-25-46-613/model\n",
      "\n",
      "\u001b[0m\n",
      "\u001b[34m[2021-06-24 23:28:59.458 ip-10-0-172-201.ec2.internal:26 INFO utils.py:27] RULE_JOB_STOP_SIGNAL_FILENAME: None\u001b[0m\n",
      "\u001b[34m[2021-06-24 23:28:59.689 ip-10-0-172-201.ec2.internal:26 INFO profiler_config_parser.py:102] User has disabled profiler.\u001b[0m\n",
      "\u001b[34m[2021-06-24 23:28:59.691 ip-10-0-172-201.ec2.internal:26 INFO json_config.py:91] Creating hook from json_config at /opt/ml/input/config/debughookconfig.json.\u001b[0m\n",
      "\u001b[34m[2021-06-24 23:28:59.691 ip-10-0-172-201.ec2.internal:26 INFO hook.py:199] tensorboard_dir has not been set for the hook. SMDebug will not be exporting tensorboard summaries.\u001b[0m\n",
      "\u001b[34m[2021-06-24 23:28:59.692 ip-10-0-172-201.ec2.internal:26 INFO hook.py:253] Saving to /opt/ml/output/tensors\u001b[0m\n",
      "\u001b[34m[2021-06-24 23:28:59.692 ip-10-0-172-201.ec2.internal:26 INFO state_store.py:77] The checkpoint config file /opt/ml/input/config/checkpointconfig.json does not exist.\u001b[0m\n",
      "\u001b[34mEpoch 1/10\u001b[0m\n",
      "\u001b[34m[2021-06-24 23:28:59.800 ip-10-0-172-201.ec2.internal:26 INFO hook.py:413] Monitoring the collections: losses, sm_metrics, metrics\u001b[0m\n",
      "\n",
      "2021-06-24 23:29:10 Training - Training image download completed. Training in progress.\u001b[34m1367/1367 - 6s - loss: 9750.7139\u001b[0m\n",
      "\u001b[34mEpoch 2/10\u001b[0m\n",
      "\u001b[34m1367/1367 - 3s - loss: 1790.3059\u001b[0m\n",
      "\u001b[34mEpoch 3/10\u001b[0m\n",
      "\u001b[34m1367/1367 - 3s - loss: 981.9163\u001b[0m\n",
      "\u001b[34mEpoch 4/10\u001b[0m\n",
      "\u001b[34m1367/1367 - 3s - loss: 810.3672\u001b[0m\n",
      "\u001b[34mEpoch 5/10\u001b[0m\n",
      "\u001b[34m1367/1367 - 3s - loss: 710.5632\u001b[0m\n",
      "\u001b[34mEpoch 6/10\u001b[0m\n",
      "\u001b[34m1367/1367 - 3s - loss: 644.2764\u001b[0m\n",
      "\u001b[34mEpoch 7/10\u001b[0m\n",
      "\u001b[34m1367/1367 - 3s - loss: 594.6825\u001b[0m\n",
      "\u001b[34mEpoch 8/10\u001b[0m\n",
      "\u001b[34m1367/1367 - 3s - loss: 542.0224\u001b[0m\n",
      "\u001b[34mEpoch 9/10\u001b[0m\n",
      "\u001b[34m1367/1367 - 3s - loss: 449.3517\u001b[0m\n",
      "\u001b[34mEpoch 10/10\u001b[0m\n",
      "\u001b[34m1367/1367 - 3s - loss: 378.7201\u001b[0m\n",
      "\n",
      "2021-06-24 23:29:42 Uploading - Uploading generated training model\n",
      "2021-06-24 23:29:42 Completed - Training job completed\n",
      "\u001b[34mmodel saved\u001b[0m\n",
      "\u001b[34mModel: \"sequential\"\u001b[0m\n",
      "\u001b[34m_________________________________________________________________\u001b[0m\n",
      "\u001b[34mLayer (type)                 Output Shape              Param #   \u001b[0m\n",
      "\u001b[34m=================================================================\u001b[0m\n",
      "\u001b[34mdense (Dense)                (None, 25)                400       \u001b[0m\n",
      "\u001b[34m_________________________________________________________________\u001b[0m\n",
      "\u001b[34mdense_1 (Dense)              (None, 25)                650       \u001b[0m\n",
      "\u001b[34m_________________________________________________________________\u001b[0m\n",
      "\u001b[34mdense_2 (Dense)              (None, 1)                 26        \u001b[0m\n",
      "\u001b[34m=================================================================\u001b[0m\n",
      "\u001b[34mTotal params: 1,076\u001b[0m\n",
      "\u001b[34mTrainable params: 1,076\u001b[0m\n",
      "\u001b[34mNon-trainable params: 0\u001b[0m\n",
      "\u001b[34m_________________________________________________________________\u001b[0m\n",
      "\u001b[34mNone\u001b[0m\n",
      "\u001b[34m2021-06-24 23:28:57.852731: W tensorflow/core/profiler/internal/smprofiler_timeline.cc:460] Initializing the SageMaker Profiler.\u001b[0m\n",
      "\u001b[34m2021-06-24 23:28:57.852853: W tensorflow/core/profiler/internal/smprofiler_timeline.cc:105] SageMaker Profiler is not enabled. The timeline writer thread will not be started, future recorded events will be dropped.\u001b[0m\n",
      "\u001b[34m2021-06-24 23:28:57.880179: W tensorflow/core/profiler/internal/smprofiler_timeline.cc:460] Initializing the SageMaker Profiler.\u001b[0m\n",
      "\u001b[34m2021-06-24 23:29:33.881309: W tensorflow/python/util/util.cc:348] Sets are not currently considered sequences, but this may change in the future, so consider avoiding using them.\u001b[0m\n",
      "\u001b[34mINFO:tensorflow:Assets written to: s3://sagemaker-us-east-1-286722933665/tensorflow-training-2021-06-24-23-25-46-613/model/model_ann/assets\u001b[0m\n",
      "\u001b[34mINFO:tensorflow:Assets written to: s3://sagemaker-us-east-1-286722933665/tensorflow-training-2021-06-24-23-25-46-613/model/model_ann/assets\n",
      "\u001b[0m\n",
      "\u001b[34m2021-06-24 23:29:35,794 sagemaker_tensorflow_container.training WARNING  No model artifact is saved under path /opt/ml/model. Your training job will not save any model files to S3.\u001b[0m\n",
      "\u001b[34mFor details of how to construct your training script see:\u001b[0m\n",
      "\u001b[34mhttps://sagemaker.readthedocs.io/en/stable/using_tf.html#adapting-your-local-tensorflow-script\u001b[0m\n",
      "\u001b[34m2021-06-24 23:29:35,794 sagemaker-training-toolkit INFO     Reporting training SUCCESS\u001b[0m\n",
      "Training seconds: 99\n",
      "Billable seconds: 99\n",
      "CPU times: user 723 ms, sys: 37.6 ms, total: 761 ms\n",
      "Wall time: 4min 13s\n"
     ]
    }
   ],
   "source": [
    "%%time\n",
    "# Train your estimator on S3 training data\n",
    "\n",
    "estimator.fit({'train': input_data})"
   ]
  },
  {
   "cell_type": "markdown",
   "metadata": {},
   "source": [
    "## Load the saved model"
   ]
  },
  {
   "cell_type": "code",
   "execution_count": 36,
   "metadata": {},
   "outputs": [
    {
     "name": "stdout",
     "output_type": "stream",
     "text": [
      "Model: \"sequential\"\n",
      "_________________________________________________________________\n",
      "Layer (type)                 Output Shape              Param #   \n",
      "=================================================================\n",
      "dense (Dense)                multiple                  400       \n",
      "_________________________________________________________________\n",
      "dense_1 (Dense)              multiple                  650       \n",
      "_________________________________________________________________\n",
      "dense_2 (Dense)              multiple                  26        \n",
      "=================================================================\n",
      "Total params: 1,076\n",
      "Trainable params: 1,076\n",
      "Non-trainable params: 0\n",
      "_________________________________________________________________\n"
     ]
    }
   ],
   "source": [
    "#model_ann = tf.keras.models.load_model(model_location)\n",
    "model_ann = tf.keras.models.load_model('s3://sagemaker-us-east-1-286722933665/tensorflow-training-2021-06-24-23-25-46-613/model/model_ann', compile=False)\n",
    "\n",
    "# Check its architecture\n",
    "model_ann.summary()"
   ]
  },
  {
   "cell_type": "markdown",
   "metadata": {},
   "source": [
    "### Test Model's performance on test data"
   ]
  },
  {
   "cell_type": "code",
   "execution_count": 39,
   "metadata": {},
   "outputs": [
    {
     "data": {
      "text/html": [
       "<div>\n",
       "<style scoped>\n",
       "    .dataframe tbody tr th:only-of-type {\n",
       "        vertical-align: middle;\n",
       "    }\n",
       "\n",
       "    .dataframe tbody tr th {\n",
       "        vertical-align: top;\n",
       "    }\n",
       "\n",
       "    .dataframe thead th {\n",
       "        text-align: right;\n",
       "    }\n",
       "</style>\n",
       "<table border=\"1\" class=\"dataframe\">\n",
       "  <thead>\n",
       "    <tr style=\"text-align: right;\">\n",
       "      <th></th>\n",
       "      <th>0</th>\n",
       "      <th>1</th>\n",
       "      <th>2</th>\n",
       "      <th>3</th>\n",
       "      <th>4</th>\n",
       "      <th>5</th>\n",
       "      <th>6</th>\n",
       "      <th>7</th>\n",
       "      <th>8</th>\n",
       "      <th>9</th>\n",
       "      <th>10</th>\n",
       "      <th>11</th>\n",
       "      <th>12</th>\n",
       "      <th>13</th>\n",
       "      <th>14</th>\n",
       "      <th>15</th>\n",
       "      <th>16</th>\n",
       "    </tr>\n",
       "  </thead>\n",
       "  <tbody>\n",
       "    <tr>\n",
       "      <th>0</th>\n",
       "      <td>2550.0</td>\n",
       "      <td>2.0</td>\n",
       "      <td>60.0</td>\n",
       "      <td>0.2</td>\n",
       "      <td>1.0</td>\n",
       "      <td>120.0</td>\n",
       "      <td>0.030</td>\n",
       "      <td>3.0</td>\n",
       "      <td>5</td>\n",
       "      <td>3.5</td>\n",
       "      <td>30</td>\n",
       "      <td>0.10</td>\n",
       "      <td>14</td>\n",
       "      <td>0.10</td>\n",
       "      <td>40</td>\n",
       "      <td>1.0</td>\n",
       "      <td>-27.017936</td>\n",
       "    </tr>\n",
       "    <tr>\n",
       "      <th>1</th>\n",
       "      <td>1650.0</td>\n",
       "      <td>2.4</td>\n",
       "      <td>140.0</td>\n",
       "      <td>0.1</td>\n",
       "      <td>0.7</td>\n",
       "      <td>140.0</td>\n",
       "      <td>0.008</td>\n",
       "      <td>3.0</td>\n",
       "      <td>5</td>\n",
       "      <td>3.5</td>\n",
       "      <td>30</td>\n",
       "      <td>0.10</td>\n",
       "      <td>14</td>\n",
       "      <td>0.10</td>\n",
       "      <td>40</td>\n",
       "      <td>0.0</td>\n",
       "      <td>38.732720</td>\n",
       "    </tr>\n",
       "    <tr>\n",
       "      <th>2</th>\n",
       "      <td>3000.0</td>\n",
       "      <td>2.4</td>\n",
       "      <td>40.0</td>\n",
       "      <td>0.1</td>\n",
       "      <td>1.0</td>\n",
       "      <td>80.0</td>\n",
       "      <td>0.030</td>\n",
       "      <td>2.5</td>\n",
       "      <td>5</td>\n",
       "      <td>4.5</td>\n",
       "      <td>15</td>\n",
       "      <td>0.10</td>\n",
       "      <td>15</td>\n",
       "      <td>0.10</td>\n",
       "      <td>10</td>\n",
       "      <td>1.0</td>\n",
       "      <td>-37.969004</td>\n",
       "    </tr>\n",
       "    <tr>\n",
       "      <th>3</th>\n",
       "      <td>1650.0</td>\n",
       "      <td>2.4</td>\n",
       "      <td>100.0</td>\n",
       "      <td>0.4</td>\n",
       "      <td>0.7</td>\n",
       "      <td>140.0</td>\n",
       "      <td>0.008</td>\n",
       "      <td>2.5</td>\n",
       "      <td>5</td>\n",
       "      <td>4.5</td>\n",
       "      <td>15</td>\n",
       "      <td>0.10</td>\n",
       "      <td>15</td>\n",
       "      <td>0.10</td>\n",
       "      <td>10</td>\n",
       "      <td>1.0</td>\n",
       "      <td>-50.845079</td>\n",
       "    </tr>\n",
       "    <tr>\n",
       "      <th>4</th>\n",
       "      <td>2550.0</td>\n",
       "      <td>2.0</td>\n",
       "      <td>100.0</td>\n",
       "      <td>0.1</td>\n",
       "      <td>0.7</td>\n",
       "      <td>140.0</td>\n",
       "      <td>0.030</td>\n",
       "      <td>4.0</td>\n",
       "      <td>3</td>\n",
       "      <td>6.0</td>\n",
       "      <td>12</td>\n",
       "      <td>0.14</td>\n",
       "      <td>8</td>\n",
       "      <td>0.14</td>\n",
       "      <td>10</td>\n",
       "      <td>1.0</td>\n",
       "      <td>-180.477090</td>\n",
       "    </tr>\n",
       "    <tr>\n",
       "      <th>...</th>\n",
       "      <td>...</td>\n",
       "      <td>...</td>\n",
       "      <td>...</td>\n",
       "      <td>...</td>\n",
       "      <td>...</td>\n",
       "      <td>...</td>\n",
       "      <td>...</td>\n",
       "      <td>...</td>\n",
       "      <td>...</td>\n",
       "      <td>...</td>\n",
       "      <td>...</td>\n",
       "      <td>...</td>\n",
       "      <td>...</td>\n",
       "      <td>...</td>\n",
       "      <td>...</td>\n",
       "      <td>...</td>\n",
       "      <td>...</td>\n",
       "    </tr>\n",
       "    <tr>\n",
       "      <th>9710</th>\n",
       "      <td>1650.0</td>\n",
       "      <td>2.8</td>\n",
       "      <td>140.0</td>\n",
       "      <td>0.1</td>\n",
       "      <td>0.7</td>\n",
       "      <td>140.0</td>\n",
       "      <td>0.030</td>\n",
       "      <td>1.5</td>\n",
       "      <td>6</td>\n",
       "      <td>3.5</td>\n",
       "      <td>30</td>\n",
       "      <td>0.07</td>\n",
       "      <td>14</td>\n",
       "      <td>0.07</td>\n",
       "      <td>10</td>\n",
       "      <td>1.0</td>\n",
       "      <td>-11.391748</td>\n",
       "    </tr>\n",
       "    <tr>\n",
       "      <th>9711</th>\n",
       "      <td>1200.0</td>\n",
       "      <td>2.4</td>\n",
       "      <td>100.0</td>\n",
       "      <td>0.1</td>\n",
       "      <td>0.4</td>\n",
       "      <td>120.0</td>\n",
       "      <td>0.015</td>\n",
       "      <td>3.0</td>\n",
       "      <td>5</td>\n",
       "      <td>4.5</td>\n",
       "      <td>23</td>\n",
       "      <td>0.10</td>\n",
       "      <td>11</td>\n",
       "      <td>0.10</td>\n",
       "      <td>60</td>\n",
       "      <td>1.0</td>\n",
       "      <td>-23.133664</td>\n",
       "    </tr>\n",
       "    <tr>\n",
       "      <th>9712</th>\n",
       "      <td>1650.0</td>\n",
       "      <td>2.0</td>\n",
       "      <td>140.0</td>\n",
       "      <td>0.2</td>\n",
       "      <td>1.0</td>\n",
       "      <td>100.0</td>\n",
       "      <td>0.030</td>\n",
       "      <td>2.5</td>\n",
       "      <td>5</td>\n",
       "      <td>4.5</td>\n",
       "      <td>15</td>\n",
       "      <td>0.10</td>\n",
       "      <td>15</td>\n",
       "      <td>0.10</td>\n",
       "      <td>10</td>\n",
       "      <td>0.0</td>\n",
       "      <td>63.944646</td>\n",
       "    </tr>\n",
       "    <tr>\n",
       "      <th>9713</th>\n",
       "      <td>2100.0</td>\n",
       "      <td>2.4</td>\n",
       "      <td>140.0</td>\n",
       "      <td>0.4</td>\n",
       "      <td>0.4</td>\n",
       "      <td>80.0</td>\n",
       "      <td>0.008</td>\n",
       "      <td>4.0</td>\n",
       "      <td>3</td>\n",
       "      <td>6.0</td>\n",
       "      <td>12</td>\n",
       "      <td>0.14</td>\n",
       "      <td>8</td>\n",
       "      <td>0.14</td>\n",
       "      <td>10</td>\n",
       "      <td>0.0</td>\n",
       "      <td>49.087060</td>\n",
       "    </tr>\n",
       "    <tr>\n",
       "      <th>9714</th>\n",
       "      <td>2100.0</td>\n",
       "      <td>2.8</td>\n",
       "      <td>100.0</td>\n",
       "      <td>0.2</td>\n",
       "      <td>0.4</td>\n",
       "      <td>120.0</td>\n",
       "      <td>0.015</td>\n",
       "      <td>1.5</td>\n",
       "      <td>6</td>\n",
       "      <td>3.5</td>\n",
       "      <td>30</td>\n",
       "      <td>0.07</td>\n",
       "      <td>14</td>\n",
       "      <td>0.07</td>\n",
       "      <td>40</td>\n",
       "      <td>1.0</td>\n",
       "      <td>-37.428624</td>\n",
       "    </tr>\n",
       "  </tbody>\n",
       "</table>\n",
       "<p>9715 rows × 17 columns</p>\n",
       "</div>"
      ],
      "text/plain": [
       "          0    1      2    3    4      5      6    7   8    9   10    11  12  \\\n",
       "0     2550.0  2.0   60.0  0.2  1.0  120.0  0.030  3.0   5  3.5  30  0.10  14   \n",
       "1     1650.0  2.4  140.0  0.1  0.7  140.0  0.008  3.0   5  3.5  30  0.10  14   \n",
       "2     3000.0  2.4   40.0  0.1  1.0   80.0  0.030  2.5   5  4.5  15  0.10  15   \n",
       "3     1650.0  2.4  100.0  0.4  0.7  140.0  0.008  2.5   5  4.5  15  0.10  15   \n",
       "4     2550.0  2.0  100.0  0.1  0.7  140.0  0.030  4.0   3  6.0  12  0.14   8   \n",
       "...      ...  ...    ...  ...  ...    ...    ...  ...  ..  ...  ..   ...  ..   \n",
       "9710  1650.0  2.8  140.0  0.1  0.7  140.0  0.030  1.5   6  3.5  30  0.07  14   \n",
       "9711  1200.0  2.4  100.0  0.1  0.4  120.0  0.015  3.0   5  4.5  23  0.10  11   \n",
       "9712  1650.0  2.0  140.0  0.2  1.0  100.0  0.030  2.5   5  4.5  15  0.10  15   \n",
       "9713  2100.0  2.4  140.0  0.4  0.4   80.0  0.008  4.0   3  6.0  12  0.14   8   \n",
       "9714  2100.0  2.8  100.0  0.2  0.4  120.0  0.015  1.5   6  3.5  30  0.07  14   \n",
       "\n",
       "        13  14   15          16  \n",
       "0     0.10  40  1.0  -27.017936  \n",
       "1     0.10  40  0.0   38.732720  \n",
       "2     0.10  10  1.0  -37.969004  \n",
       "3     0.10  10  1.0  -50.845079  \n",
       "4     0.14  10  1.0 -180.477090  \n",
       "...    ...  ..  ...         ...  \n",
       "9710  0.07  10  1.0  -11.391748  \n",
       "9711  0.10  60  1.0  -23.133664  \n",
       "9712  0.10  10  0.0   63.944646  \n",
       "9713  0.14  10  0.0   49.087060  \n",
       "9714  0.07  40  1.0  -37.428624  \n",
       "\n",
       "[9715 rows x 17 columns]"
      ]
     },
     "execution_count": 39,
     "metadata": {},
     "output_type": "execute_result"
    }
   ],
   "source": [
    "test_data = pd.read_csv('data/train_test/test.csv', header=None, names=None, low_memory=False, skiprows=1, skipinitialspace=True)\n",
    "test_data"
   ]
  },
  {
   "cell_type": "code",
   "execution_count": 40,
   "metadata": {},
   "outputs": [],
   "source": [
    "# Measured values are in the last column\n",
    "test_x = test_data.iloc[:,:15].values\n",
    "test_y = test_data.iloc[:,-1].values"
   ]
  },
  {
   "cell_type": "code",
   "execution_count": 46,
   "metadata": {},
   "outputs": [],
   "source": [
    "model_ann.compile(optimizer='adam', loss='mean_squared_error')"
   ]
  },
  {
   "cell_type": "code",
   "execution_count": 47,
   "metadata": {},
   "outputs": [
    {
     "name": "stdout",
     "output_type": "stream",
     "text": [
      "WARNING:tensorflow:OMP_NUM_THREADS is no longer used by the default Keras config. To configure the number of threads, use tf.config.threading APIs.\n"
     ]
    }
   ],
   "source": [
    "# Make predictions\n",
    "y_pred = model_ann.predict(test_x)"
   ]
  },
  {
   "cell_type": "code",
   "execution_count": 51,
   "metadata": {},
   "outputs": [
    {
     "data": {
      "text/plain": [
       "array([[-53.71],\n",
       "       [  9.93],\n",
       "       [-29.85],\n",
       "       ...,\n",
       "       [ 67.6 ],\n",
       "       [ 56.22],\n",
       "       [-30.86]], dtype=float32)"
      ]
     },
     "execution_count": 51,
     "metadata": {},
     "output_type": "execute_result"
    }
   ],
   "source": [
    "y_pred"
   ]
  },
  {
   "cell_type": "markdown",
   "metadata": {},
   "source": [
    "#### Compare predictions side by side"
   ]
  },
  {
   "cell_type": "code",
   "execution_count": 52,
   "metadata": {},
   "outputs": [
    {
     "name": "stdout",
     "output_type": "stream",
     "text": [
      "[[-53.71 -27.02]\n",
      " [  9.93  38.73]\n",
      " [-29.85 -37.97]\n",
      " ...\n",
      " [ 67.6   63.94]\n",
      " [ 56.22  49.09]\n",
      " [-30.86 -37.43]]\n"
     ]
    }
   ],
   "source": [
    "np.set_printoptions(precision=2)\n",
    "print(np.concatenate((y_pred.reshape(len(y_pred),1), test_y.reshape(len(test_y),1)),1))"
   ]
  },
  {
   "cell_type": "markdown",
   "metadata": {},
   "source": [
    "#### Compare model prediction using confusion matrix because we have true values of whether prediction has occured or not. \n",
    "collision distance > 0: No collision\n",
    "collision distance <= 0: Collision "
   ]
  },
  {
   "cell_type": "markdown",
   "metadata": {},
   "source": [
    "col_pred = []\n",
    "for pred in y_pred:\n",
    "  if pred > 0:\n",
    "    col_pred.append(0)\n",
    "  else:\n",
    "    col_pred.append(1)\n",
    "\n",
    "len(col_pred)"
   ]
  },
  {
   "cell_type": "code",
   "execution_count": 54,
   "metadata": {},
   "outputs": [
    {
     "data": {
      "text/plain": [
       "9715"
      ]
     },
     "execution_count": 54,
     "metadata": {},
     "output_type": "execute_result"
    }
   ],
   "source": [
    "col_true = []\n",
    "for pred in test_y:\n",
    "  if pred > 0:\n",
    "    col_true.append(0)\n",
    "  else:\n",
    "    col_true.append(1)\n",
    "\n",
    "len(col_true)"
   ]
  },
  {
   "cell_type": "code",
   "execution_count": 55,
   "metadata": {},
   "outputs": [
    {
     "name": "stdout",
     "output_type": "stream",
     "text": [
      "[[2893  280]\n",
      " [ 279 6263]]\n",
      "0.9424601132269687\n"
     ]
    }
   ],
   "source": [
    "from sklearn.metrics import confusion_matrix, accuracy_score\n",
    "cm = confusion_matrix(col_pred, col_true)\n",
    "print(cm)\n",
    "print(accuracy_score(col_pred, col_true))"
   ]
  },
  {
   "cell_type": "markdown",
   "metadata": {},
   "source": [
    "As can be seen from the confusion matrix above, the accuracy is 94.24% for 9715 variations which is good, but it can be better by changing the neural network architecture (later below)"
   ]
  },
  {
   "cell_type": "markdown",
   "metadata": {},
   "source": [
    "Next we predict collision distances for new observations from new vehicle prototypes and for vehicle speeds outside the range of what was used for training the model. This is a short (validation) dataset but it will test the effectiveness of the model outside the training range."
   ]
  },
  {
   "cell_type": "code",
   "execution_count": 57,
   "metadata": {},
   "outputs": [],
   "source": [
    "validation_data = pd.read_csv('data/train_test/validation_test.csv', header=None, names=None, low_memory=False, skiprows=1, skipinitialspace=True)"
   ]
  },
  {
   "cell_type": "code",
   "execution_count": 65,
   "metadata": {},
   "outputs": [],
   "source": [
    "val_x = validation_data.iloc[:,:15].values\n",
    "val_y = validation_data.iloc[:,15].values"
   ]
  },
  {
   "cell_type": "code",
   "execution_count": 66,
   "metadata": {},
   "outputs": [],
   "source": [
    "val_pred = model_ann.predict(val_x)\n",
    "col_pred = []\n",
    "for pred in val_pred:\n",
    "  if pred > 0:\n",
    "    col_pred.append(0)\n",
    "  else:\n",
    "    col_pred.append(1)"
   ]
  },
  {
   "cell_type": "code",
   "execution_count": 67,
   "metadata": {},
   "outputs": [
    {
     "name": "stdout",
     "output_type": "stream",
     "text": [
      "[[18  0]\n",
      " [ 2 14]]\n",
      "0.9411764705882353\n"
     ]
    }
   ],
   "source": [
    "from sklearn.metrics import confusion_matrix, accuracy_score\n",
    "cm = confusion_matrix(col_pred, val_y)\n",
    "print(cm)\n",
    "print(accuracy_score(col_pred, val_y))"
   ]
  },
  {
   "cell_type": "code",
   "execution_count": 68,
   "metadata": {},
   "outputs": [
    {
     "name": "stdout",
     "output_type": "stream",
     "text": [
      "[[  37.28   26.22    0.  ]\n",
      " [  14.96   14.85    0.  ]\n",
      " [ -18.31   -4.58    1.  ]\n",
      " [ -77.    -45.45    1.  ]\n",
      " [-135.58  -77.95    1.  ]\n",
      " [ 121.36  103.78    0.  ]\n",
      " [ 101.82   95.84    0.  ]\n",
      " [  71.42   82.72    0.  ]\n",
      " [  14.55   53.31    0.  ]\n",
      " [ -17.05   33.27    0.  ]\n",
      " [  61.7    49.15    0.  ]\n",
      " [  42.36   39.53    0.  ]\n",
      " [  10.14   23.      0.  ]\n",
      " [ -48.08  -14.69    1.  ]\n",
      " [ -93.36  -41.12    1.  ]\n",
      " [-139.61  -70.15    1.  ]\n",
      " [-158.57  -86.82    1.  ]\n",
      " [ 108.18   89.38    0.  ]\n",
      " [  88.84   79.01    0.  ]\n",
      " [  61.02   61.01    0.  ]\n",
      " [   4.8    21.85    0.  ]\n",
      " [ -28.47   -5.59    1.  ]\n",
      " [ -65.36  -36.63    1.  ]\n",
      " [ -84.32  -53.69    1.  ]\n",
      " [  44.04   31.91    0.  ]\n",
      " [  24.35   22.74    0.  ]\n",
      " [  -5.03    8.24    0.  ]\n",
      " [ -63.25  -26.44    1.  ]\n",
      " [ -99.81  -49.58    1.  ]\n",
      " [  54.41   32.56    0.  ]\n",
      " [  35.06   23.6     0.  ]\n",
      " [   8.07    9.42    0.  ]\n",
      " [ -46.13  -24.66    1.  ]\n",
      " [ -79.33  -47.43    1.  ]]\n"
     ]
    }
   ],
   "source": [
    "val_y_dist = validation_data.iloc[:, 16].values\n",
    "print(np.concatenate((val_pred.reshape(len(val_pred),1), val_y_dist.reshape(len(val_y_dist),1), val_y.reshape(len(val_y),1),),1))"
   ]
  },
  {
   "cell_type": "markdown",
   "metadata": {},
   "source": [
    "As can been seen from the results of the validation test above, 2 out of 34 collision predictions were wrong and the error values in 'collision distance' prediction is higher than desired. Hence we will now change the neural network architecture, retrain the model anew and test the performance again."
   ]
  },
  {
   "cell_type": "markdown",
   "metadata": {},
   "source": [
    "## Update neural network architecture and retrain"
   ]
  },
  {
   "cell_type": "markdown",
   "metadata": {},
   "source": [
    "### Create an Estimator"
   ]
  },
  {
   "cell_type": "markdown",
   "metadata": {},
   "source": [
    "Given the large number of datapoints and features, we will add two more hidden layers, increase the number of epochs and reduce the batch_size for training"
   ]
  },
  {
   "cell_type": "code",
   "execution_count": 6,
   "metadata": {},
   "outputs": [
    {
     "name": "stderr",
     "output_type": "stream",
     "text": [
      "train_instance_type has been renamed in sagemaker>=2.\n",
      "See: https://sagemaker.readthedocs.io/en/stable/v2.html for details.\n",
      "train_instance_count has been renamed in sagemaker>=2.\n",
      "See: https://sagemaker.readthedocs.io/en/stable/v2.html for details.\n",
      "train_instance_type has been renamed in sagemaker>=2.\n",
      "See: https://sagemaker.readthedocs.io/en/stable/v2.html for details.\n"
     ]
    }
   ],
   "source": [
    "from sagemaker.tensorflow import TensorFlow\n",
    "\n",
    "estimator = TensorFlow(entry_point=\"train.py\",\n",
    "                    source_dir=\"source_tfkeras\",\n",
    "                    role=role,\n",
    "                    py_version = 'py37',\n",
    "                    framework_version='2.4', # v2.5 is unsupported\n",
    "                    script_mode=True,\n",
    "                    train_instance_count=1,\n",
    "                    train_instance_type='ml.c5.xlarge')"
   ]
  },
  {
   "cell_type": "markdown",
   "metadata": {},
   "source": [
    "### Train the Estimator"
   ]
  },
  {
   "cell_type": "code",
   "execution_count": 7,
   "metadata": {},
   "outputs": [
    {
     "name": "stdout",
     "output_type": "stream",
     "text": [
      "2021-06-27 10:29:52 Starting - Starting the training job...\n",
      "2021-06-27 10:29:53 Starting - Launching requested ML instancesProfilerReport-1624789791: InProgress\n",
      "...\n",
      "2021-06-27 10:30:51 Starting - Preparing the instances for training.........\n",
      "2021-06-27 10:32:10 Downloading - Downloading input data......\n",
      "2021-06-27 10:33:14 Training - Downloading the training image..\u001b[34m2021-06-27 10:33:29.303418: W tensorflow/core/profiler/internal/smprofiler_timeline.cc:460] Initializing the SageMaker Profiler.\u001b[0m\n",
      "\u001b[34m2021-06-27 10:33:29.311179: W tensorflow/core/profiler/internal/smprofiler_timeline.cc:105] SageMaker Profiler is not enabled. The timeline writer thread will not be started, future recorded events will be dropped.\u001b[0m\n",
      "\u001b[34m2021-06-27 10:33:29.483667: W tensorflow/core/profiler/internal/smprofiler_timeline.cc:460] Initializing the SageMaker Profiler.\u001b[0m\n",
      "\u001b[34m2021-06-27 10:33:33,318 sagemaker-training-toolkit INFO     Imported framework sagemaker_tensorflow_container.training\u001b[0m\n",
      "\u001b[34m2021-06-27 10:33:33,324 sagemaker-training-toolkit INFO     No GPUs detected (normal if no gpus installed)\u001b[0m\n",
      "\u001b[34m2021-06-27 10:33:33,747 sagemaker-training-toolkit INFO     No GPUs detected (normal if no gpus installed)\u001b[0m\n",
      "\u001b[34m2021-06-27 10:33:33,763 sagemaker-training-toolkit INFO     No GPUs detected (normal if no gpus installed)\u001b[0m\n",
      "\u001b[34m2021-06-27 10:33:33,777 sagemaker-training-toolkit INFO     No GPUs detected (normal if no gpus installed)\u001b[0m\n",
      "\u001b[34m2021-06-27 10:33:33,787 sagemaker-training-toolkit INFO     Invoking user script\n",
      "\u001b[0m\n",
      "\u001b[34mTraining Env:\n",
      "\u001b[0m\n",
      "\u001b[34m{\n",
      "    \"additional_framework_parameters\": {},\n",
      "    \"channel_input_dirs\": {\n",
      "        \"train\": \"/opt/ml/input/data/train\"\n",
      "    },\n",
      "    \"current_host\": \"algo-1\",\n",
      "    \"framework_module\": \"sagemaker_tensorflow_container.training:main\",\n",
      "    \"hosts\": [\n",
      "        \"algo-1\"\n",
      "    ],\n",
      "    \"hyperparameters\": {\n",
      "        \"model_dir\": \"s3://sagemaker-us-east-1-286722933665/tensorflow-training-2021-06-27-10-29-51-541/model\"\n",
      "    },\n",
      "    \"input_config_dir\": \"/opt/ml/input/config\",\n",
      "    \"input_data_config\": {\n",
      "        \"train\": {\n",
      "            \"TrainingInputMode\": \"File\",\n",
      "            \"S3DistributionType\": \"FullyReplicated\",\n",
      "            \"RecordWrapperType\": \"None\"\n",
      "        }\n",
      "    },\n",
      "    \"input_dir\": \"/opt/ml/input\",\n",
      "    \"is_master\": true,\n",
      "    \"job_name\": \"tensorflow-training-2021-06-27-10-29-51-541\",\n",
      "    \"log_level\": 20,\n",
      "    \"master_hostname\": \"algo-1\",\n",
      "    \"model_dir\": \"/opt/ml/model\",\n",
      "    \"module_dir\": \"s3://sagemaker-us-east-1-286722933665/tensorflow-training-2021-06-27-10-29-51-541/source/sourcedir.tar.gz\",\n",
      "    \"module_name\": \"train\",\n",
      "    \"network_interface_name\": \"eth0\",\n",
      "    \"num_cpus\": 4,\n",
      "    \"num_gpus\": 0,\n",
      "    \"output_data_dir\": \"/opt/ml/output/data\",\n",
      "    \"output_dir\": \"/opt/ml/output\",\n",
      "    \"output_intermediate_dir\": \"/opt/ml/output/intermediate\",\n",
      "    \"resource_config\": {\n",
      "        \"current_host\": \"algo-1\",\n",
      "        \"hosts\": [\n",
      "            \"algo-1\"\n",
      "        ],\n",
      "        \"network_interface_name\": \"eth0\"\n",
      "    },\n",
      "    \"user_entry_point\": \"train.py\"\u001b[0m\n",
      "\u001b[34m}\n",
      "\u001b[0m\n",
      "\u001b[34mEnvironment variables:\n",
      "\u001b[0m\n",
      "\u001b[34mSM_HOSTS=[\"algo-1\"]\u001b[0m\n",
      "\u001b[34mSM_NETWORK_INTERFACE_NAME=eth0\u001b[0m\n",
      "\u001b[34mSM_HPS={\"model_dir\":\"s3://sagemaker-us-east-1-286722933665/tensorflow-training-2021-06-27-10-29-51-541/model\"}\u001b[0m\n",
      "\u001b[34mSM_USER_ENTRY_POINT=train.py\u001b[0m\n",
      "\u001b[34mSM_FRAMEWORK_PARAMS={}\u001b[0m\n",
      "\u001b[34mSM_RESOURCE_CONFIG={\"current_host\":\"algo-1\",\"hosts\":[\"algo-1\"],\"network_interface_name\":\"eth0\"}\u001b[0m\n",
      "\u001b[34mSM_INPUT_DATA_CONFIG={\"train\":{\"RecordWrapperType\":\"None\",\"S3DistributionType\":\"FullyReplicated\",\"TrainingInputMode\":\"File\"}}\u001b[0m\n",
      "\u001b[34mSM_OUTPUT_DATA_DIR=/opt/ml/output/data\u001b[0m\n",
      "\u001b[34mSM_CHANNELS=[\"train\"]\u001b[0m\n",
      "\u001b[34mSM_CURRENT_HOST=algo-1\u001b[0m\n",
      "\u001b[34mSM_MODULE_NAME=train\u001b[0m\n",
      "\u001b[34mSM_LOG_LEVEL=20\u001b[0m\n",
      "\u001b[34mSM_FRAMEWORK_MODULE=sagemaker_tensorflow_container.training:main\u001b[0m\n",
      "\u001b[34mSM_INPUT_DIR=/opt/ml/input\u001b[0m\n",
      "\u001b[34mSM_INPUT_CONFIG_DIR=/opt/ml/input/config\u001b[0m\n",
      "\u001b[34mSM_OUTPUT_DIR=/opt/ml/output\u001b[0m\n",
      "\u001b[34mSM_NUM_CPUS=4\u001b[0m\n",
      "\u001b[34mSM_NUM_GPUS=0\u001b[0m\n",
      "\u001b[34mSM_MODEL_DIR=/opt/ml/model\u001b[0m\n",
      "\u001b[34mSM_MODULE_DIR=s3://sagemaker-us-east-1-286722933665/tensorflow-training-2021-06-27-10-29-51-541/source/sourcedir.tar.gz\u001b[0m\n",
      "\u001b[34mSM_TRAINING_ENV={\"additional_framework_parameters\":{},\"channel_input_dirs\":{\"train\":\"/opt/ml/input/data/train\"},\"current_host\":\"algo-1\",\"framework_module\":\"sagemaker_tensorflow_container.training:main\",\"hosts\":[\"algo-1\"],\"hyperparameters\":{\"model_dir\":\"s3://sagemaker-us-east-1-286722933665/tensorflow-training-2021-06-27-10-29-51-541/model\"},\"input_config_dir\":\"/opt/ml/input/config\",\"input_data_config\":{\"train\":{\"RecordWrapperType\":\"None\",\"S3DistributionType\":\"FullyReplicated\",\"TrainingInputMode\":\"File\"}},\"input_dir\":\"/opt/ml/input\",\"is_master\":true,\"job_name\":\"tensorflow-training-2021-06-27-10-29-51-541\",\"log_level\":20,\"master_hostname\":\"algo-1\",\"model_dir\":\"/opt/ml/model\",\"module_dir\":\"s3://sagemaker-us-east-1-286722933665/tensorflow-training-2021-06-27-10-29-51-541/source/sourcedir.tar.gz\",\"module_name\":\"train\",\"network_interface_name\":\"eth0\",\"num_cpus\":4,\"num_gpus\":0,\"output_data_dir\":\"/opt/ml/output/data\",\"output_dir\":\"/opt/ml/output\",\"output_intermediate_dir\":\"/opt/ml/output/intermediate\",\"resource_config\":{\"current_host\":\"algo-1\",\"hosts\":[\"algo-1\"],\"network_interface_name\":\"eth0\"},\"user_entry_point\":\"train.py\"}\u001b[0m\n",
      "\u001b[34mSM_USER_ARGS=[\"--model_dir\",\"s3://sagemaker-us-east-1-286722933665/tensorflow-training-2021-06-27-10-29-51-541/model\"]\u001b[0m\n",
      "\u001b[34mSM_OUTPUT_INTERMEDIATE_DIR=/opt/ml/output/intermediate\u001b[0m\n",
      "\u001b[34mSM_CHANNEL_TRAIN=/opt/ml/input/data/train\u001b[0m\n",
      "\u001b[34mSM_HP_MODEL_DIR=s3://sagemaker-us-east-1-286722933665/tensorflow-training-2021-06-27-10-29-51-541/model\u001b[0m\n",
      "\u001b[34mPYTHONPATH=/opt/ml/code:/usr/local/bin:/usr/local/lib/python37.zip:/usr/local/lib/python3.7:/usr/local/lib/python3.7/lib-dynload:/usr/local/lib/python3.7/site-packages\n",
      "\u001b[0m\n",
      "\u001b[34mInvoking script with the following command:\n",
      "\u001b[0m\n",
      "\u001b[34m/usr/local/bin/python3.7 train.py --model_dir s3://sagemaker-us-east-1-286722933665/tensorflow-training-2021-06-27-10-29-51-541/model\n",
      "\n",
      "\u001b[0m\n",
      "\u001b[34m[2021-06-27 10:33:35.756 ip-10-2-87-207.ec2.internal:27 INFO utils.py:27] RULE_JOB_STOP_SIGNAL_FILENAME: None\u001b[0m\n",
      "\u001b[34m[2021-06-27 10:33:35.985 ip-10-2-87-207.ec2.internal:27 INFO profiler_config_parser.py:102] User has disabled profiler.\u001b[0m\n",
      "\u001b[34m[2021-06-27 10:33:35.986 ip-10-2-87-207.ec2.internal:27 INFO json_config.py:91] Creating hook from json_config at /opt/ml/input/config/debughookconfig.json.\u001b[0m\n",
      "\u001b[34m[2021-06-27 10:33:35.987 ip-10-2-87-207.ec2.internal:27 INFO hook.py:199] tensorboard_dir has not been set for the hook. SMDebug will not be exporting tensorboard summaries.\u001b[0m\n",
      "\u001b[34m[2021-06-27 10:33:35.987 ip-10-2-87-207.ec2.internal:27 INFO hook.py:253] Saving to /opt/ml/output/tensors\u001b[0m\n",
      "\u001b[34m[2021-06-27 10:33:35.987 ip-10-2-87-207.ec2.internal:27 INFO state_store.py:77] The checkpoint config file /opt/ml/input/config/checkpointconfig.json does not exist.\u001b[0m\n",
      "\u001b[34mEpoch 1/200\u001b[0m\n",
      "\u001b[34m[2021-06-27 10:33:36.105 ip-10-2-87-207.ec2.internal:27 INFO hook.py:413] Monitoring the collections: sm_metrics, metrics, losses\u001b[0m\n",
      "\n",
      "2021-06-27 10:33:50 Training - Training image download completed. Training in progress.\u001b[34m2734/2734 - 9s - loss: 1387.2372\u001b[0m\n",
      "\u001b[34mEpoch 2/200\u001b[0m\n",
      "\u001b[34m2734/2734 - 8s - loss: 582.2036\u001b[0m\n",
      "\u001b[34mEpoch 3/200\u001b[0m\n",
      "\u001b[34m2734/2734 - 8s - loss: 435.3839\u001b[0m\n",
      "\u001b[34mEpoch 4/200\u001b[0m\n",
      "\u001b[34m2734/2734 - 10s - loss: 382.0751\u001b[0m\n",
      "\u001b[34mEpoch 5/200\u001b[0m\n",
      "\u001b[34m2734/2734 - 8s - loss: 331.9124\u001b[0m\n",
      "\u001b[34mEpoch 6/200\u001b[0m\n",
      "\u001b[34m2734/2734 - 8s - loss: 278.4064\u001b[0m\n",
      "\u001b[34mEpoch 7/200\u001b[0m\n",
      "\u001b[34m2734/2734 - 8s - loss: 231.4803\u001b[0m\n",
      "\u001b[34mEpoch 8/200\u001b[0m\n",
      "\u001b[34m2734/2734 - 8s - loss: 211.6196\u001b[0m\n",
      "\u001b[34mEpoch 9/200\u001b[0m\n",
      "\u001b[34m2734/2734 - 8s - loss: 203.3797\u001b[0m\n",
      "\u001b[34mEpoch 10/200\u001b[0m\n",
      "\u001b[34m2734/2734 - 8s - loss: 189.4333\u001b[0m\n",
      "\u001b[34mEpoch 11/200\u001b[0m\n",
      "\u001b[34m2734/2734 - 10s - loss: 176.2776\u001b[0m\n",
      "\u001b[34mEpoch 12/200\u001b[0m\n",
      "\u001b[34m2734/2734 - 8s - loss: 163.1170\u001b[0m\n",
      "\u001b[34mEpoch 13/200\u001b[0m\n",
      "\u001b[34m2734/2734 - 8s - loss: 143.3107\u001b[0m\n",
      "\u001b[34mEpoch 14/200\u001b[0m\n",
      "\u001b[34m2734/2734 - 8s - loss: 124.7277\u001b[0m\n",
      "\u001b[34mEpoch 15/200\u001b[0m\n",
      "\u001b[34m2734/2734 - 8s - loss: 107.8471\u001b[0m\n",
      "\u001b[34mEpoch 16/200\u001b[0m\n",
      "\u001b[34m2734/2734 - 8s - loss: 90.4912\u001b[0m\n",
      "\u001b[34mEpoch 17/200\u001b[0m\n",
      "\u001b[34m2734/2734 - 8s - loss: 89.8234\u001b[0m\n",
      "\u001b[34mEpoch 18/200\u001b[0m\n",
      "\u001b[34m2734/2734 - 10s - loss: 76.6962\u001b[0m\n",
      "\u001b[34mEpoch 19/200\u001b[0m\n",
      "\u001b[34m2734/2734 - 8s - loss: 75.4728\u001b[0m\n",
      "\u001b[34mEpoch 20/200\u001b[0m\n",
      "\u001b[34m2734/2734 - 8s - loss: 69.6163\u001b[0m\n",
      "\u001b[34mEpoch 21/200\u001b[0m\n",
      "\u001b[34m2734/2734 - 8s - loss: 67.4184\u001b[0m\n",
      "\u001b[34mEpoch 22/200\u001b[0m\n",
      "\u001b[34m2734/2734 - 9s - loss: 60.4451\u001b[0m\n",
      "\u001b[34mEpoch 23/200\u001b[0m\n",
      "\u001b[34m2734/2734 - 8s - loss: 65.3885\u001b[0m\n",
      "\u001b[34mEpoch 24/200\u001b[0m\n",
      "\u001b[34m2734/2734 - 8s - loss: 58.4698\u001b[0m\n",
      "\u001b[34mEpoch 25/200\u001b[0m\n",
      "\u001b[34m2734/2734 - 10s - loss: 61.0100\u001b[0m\n",
      "\u001b[34mEpoch 26/200\u001b[0m\n",
      "\u001b[34m2734/2734 - 8s - loss: 58.2539\u001b[0m\n",
      "\u001b[34mEpoch 27/200\u001b[0m\n",
      "\u001b[34m2734/2734 - 8s - loss: 56.4135\u001b[0m\n",
      "\u001b[34mEpoch 28/200\u001b[0m\n",
      "\u001b[34m2734/2734 - 8s - loss: 52.5634\u001b[0m\n",
      "\u001b[34mEpoch 29/200\u001b[0m\n",
      "\u001b[34m2734/2734 - 8s - loss: 54.1753\u001b[0m\n",
      "\u001b[34mEpoch 30/200\u001b[0m\n",
      "\u001b[34m2734/2734 - 8s - loss: 54.9096\u001b[0m\n",
      "\u001b[34mEpoch 31/200\u001b[0m\n",
      "\u001b[34m2734/2734 - 8s - loss: 50.3334\u001b[0m\n",
      "\u001b[34mEpoch 32/200\u001b[0m\n",
      "\u001b[34m2734/2734 - 11s - loss: 49.9223\u001b[0m\n",
      "\u001b[34mEpoch 33/200\u001b[0m\n",
      "\u001b[34m2734/2734 - 8s - loss: 49.8504\u001b[0m\n",
      "\u001b[34mEpoch 34/200\u001b[0m\n",
      "\u001b[34m2734/2734 - 8s - loss: 46.0797\u001b[0m\n",
      "\u001b[34mEpoch 35/200\u001b[0m\n",
      "\u001b[34m2734/2734 - 8s - loss: 46.9291\u001b[0m\n",
      "\u001b[34mEpoch 36/200\u001b[0m\n",
      "\u001b[34m2734/2734 - 9s - loss: 46.0204\u001b[0m\n",
      "\u001b[34mEpoch 37/200\u001b[0m\n",
      "\u001b[34m2734/2734 - 8s - loss: 47.7268\u001b[0m\n",
      "\u001b[34mEpoch 38/200\u001b[0m\n",
      "\u001b[34m2734/2734 - 8s - loss: 43.5134\u001b[0m\n",
      "\u001b[34mEpoch 39/200\u001b[0m\n",
      "\u001b[34m2734/2734 - 10s - loss: 44.4822\u001b[0m\n",
      "\u001b[34mEpoch 40/200\u001b[0m\n",
      "\u001b[34m2734/2734 - 9s - loss: 43.4053\u001b[0m\n",
      "\u001b[34mEpoch 41/200\u001b[0m\n",
      "\u001b[34m2734/2734 - 8s - loss: 42.9512\u001b[0m\n",
      "\u001b[34mEpoch 42/200\u001b[0m\n",
      "\u001b[34m2734/2734 - 8s - loss: 43.8522\u001b[0m\n",
      "\u001b[34mEpoch 43/200\u001b[0m\n",
      "\u001b[34m2734/2734 - 8s - loss: 41.6060\u001b[0m\n",
      "\u001b[34mEpoch 44/200\u001b[0m\n",
      "\u001b[34m2734/2734 - 8s - loss: 42.2969\u001b[0m\n",
      "\u001b[34mEpoch 45/200\u001b[0m\n",
      "\u001b[34m2734/2734 - 8s - loss: 41.6620\u001b[0m\n",
      "\u001b[34mEpoch 46/200\u001b[0m\n",
      "\u001b[34m2734/2734 - 9s - loss: 41.2661\u001b[0m\n",
      "\u001b[34mEpoch 47/200\u001b[0m\n",
      "\u001b[34m2734/2734 - 10s - loss: 41.1054\u001b[0m\n",
      "\u001b[34mEpoch 48/200\u001b[0m\n",
      "\u001b[34m2734/2734 - 8s - loss: 40.2375\u001b[0m\n",
      "\u001b[34mEpoch 49/200\u001b[0m\n",
      "\u001b[34m2734/2734 - 8s - loss: 41.6064\u001b[0m\n",
      "\u001b[34mEpoch 50/200\u001b[0m\n",
      "\u001b[34m2734/2734 - 8s - loss: 37.1432\u001b[0m\n",
      "\u001b[34mEpoch 51/200\u001b[0m\n",
      "\u001b[34m2734/2734 - 8s - loss: 40.2025\u001b[0m\n",
      "\u001b[34mEpoch 52/200\u001b[0m\n",
      "\u001b[34m2734/2734 - 8s - loss: 37.4166\u001b[0m\n",
      "\u001b[34mEpoch 53/200\u001b[0m\n",
      "\u001b[34m2734/2734 - 11s - loss: 38.1011\u001b[0m\n",
      "\u001b[34mEpoch 54/200\u001b[0m\n",
      "\u001b[34m2734/2734 - 8s - loss: 37.1137\u001b[0m\n",
      "\u001b[34mEpoch 55/200\u001b[0m\n",
      "\u001b[34m2734/2734 - 8s - loss: 37.3509\u001b[0m\n",
      "\u001b[34mEpoch 56/200\u001b[0m\n",
      "\u001b[34m2734/2734 - 8s - loss: 39.7087\u001b[0m\n",
      "\u001b[34mEpoch 57/200\u001b[0m\n",
      "\u001b[34m2734/2734 - 8s - loss: 36.2700\u001b[0m\n",
      "\u001b[34mEpoch 58/200\u001b[0m\n",
      "\u001b[34m2734/2734 - 9s - loss: 36.3663\u001b[0m\n",
      "\u001b[34mEpoch 59/200\u001b[0m\n",
      "\u001b[34m2734/2734 - 8s - loss: 36.7101\u001b[0m\n",
      "\u001b[34mEpoch 60/200\u001b[0m\n",
      "\u001b[34m2734/2734 - 10s - loss: 36.3037\u001b[0m\n",
      "\u001b[34mEpoch 61/200\u001b[0m\n",
      "\u001b[34m2734/2734 - 9s - loss: 37.9681\u001b[0m\n",
      "\u001b[34mEpoch 62/200\u001b[0m\n",
      "\u001b[34m2734/2734 - 8s - loss: 35.6505\u001b[0m\n",
      "\u001b[34mEpoch 63/200\u001b[0m\n",
      "\u001b[34m2734/2734 - 8s - loss: 35.1525\u001b[0m\n",
      "\u001b[34mEpoch 64/200\u001b[0m\n",
      "\u001b[34m2734/2734 - 8s - loss: 36.3234\u001b[0m\n",
      "\u001b[34mEpoch 65/200\u001b[0m\n",
      "\u001b[34m2734/2734 - 8s - loss: 34.5600\u001b[0m\n",
      "\u001b[34mEpoch 66/200\u001b[0m\n",
      "\u001b[34m2734/2734 - 8s - loss: 34.7617\u001b[0m\n",
      "\u001b[34mEpoch 67/200\u001b[0m\n",
      "\u001b[34m2734/2734 - 8s - loss: 34.1683\u001b[0m\n",
      "\u001b[34mEpoch 68/200\u001b[0m\n",
      "\u001b[34m2734/2734 - 10s - loss: 33.5491\u001b[0m\n",
      "\u001b[34mEpoch 69/200\u001b[0m\n",
      "\u001b[34m2734/2734 - 8s - loss: 36.0324\u001b[0m\n",
      "\u001b[34mEpoch 70/200\u001b[0m\n",
      "\u001b[34m2734/2734 - 8s - loss: 34.6815\u001b[0m\n",
      "\u001b[34mEpoch 71/200\u001b[0m\n",
      "\u001b[34m2734/2734 - 8s - loss: 31.5616\u001b[0m\n",
      "\u001b[34mEpoch 72/200\u001b[0m\n",
      "\u001b[34m2734/2734 - 8s - loss: 33.5557\u001b[0m\n",
      "\u001b[34mEpoch 73/200\u001b[0m\n",
      "\u001b[34m2734/2734 - 8s - loss: 31.9063\u001b[0m\n",
      "\u001b[34mEpoch 74/200\u001b[0m\n",
      "\u001b[34m2734/2734 - 8s - loss: 33.5733\u001b[0m\n",
      "\u001b[34mEpoch 75/200\u001b[0m\n",
      "\u001b[34m2734/2734 - 10s - loss: 33.7085\u001b[0m\n",
      "\u001b[34mEpoch 76/200\u001b[0m\n",
      "\u001b[34m2734/2734 - 8s - loss: 31.9904\u001b[0m\n",
      "\u001b[34mEpoch 77/200\u001b[0m\n",
      "\u001b[34m2734/2734 - 8s - loss: 33.1305\u001b[0m\n",
      "\u001b[34mEpoch 78/200\u001b[0m\n",
      "\u001b[34m2734/2734 - 8s - loss: 30.9702\u001b[0m\n",
      "\u001b[34mEpoch 79/200\u001b[0m\n",
      "\u001b[34m2734/2734 - 8s - loss: 33.9679\u001b[0m\n",
      "\u001b[34mEpoch 80/200\u001b[0m\n",
      "\u001b[34m2734/2734 - 8s - loss: 33.8364\u001b[0m\n",
      "\u001b[34mEpoch 81/200\u001b[0m\n",
      "\u001b[34m2734/2734 - 8s - loss: 31.6636\u001b[0m\n",
      "\u001b[34mEpoch 82/200\u001b[0m\n",
      "\u001b[34m2734/2734 - 10s - loss: 33.6441\u001b[0m\n",
      "\u001b[34mEpoch 83/200\u001b[0m\n",
      "\u001b[34m2734/2734 - 8s - loss: 31.7686\u001b[0m\n",
      "\u001b[34mEpoch 84/200\u001b[0m\n",
      "\u001b[34m2734/2734 - 8s - loss: 29.6704\u001b[0m\n",
      "\u001b[34mEpoch 85/200\u001b[0m\n",
      "\u001b[34m2734/2734 - 8s - loss: 31.4104\u001b[0m\n",
      "\u001b[34mEpoch 86/200\u001b[0m\n",
      "\u001b[34m2734/2734 - 8s - loss: 30.0950\u001b[0m\n",
      "\u001b[34mEpoch 87/200\u001b[0m\n",
      "\u001b[34m2734/2734 - 9s - loss: 30.5731\u001b[0m\n",
      "\u001b[34mEpoch 88/200\u001b[0m\n",
      "\u001b[34m2734/2734 - 8s - loss: 28.7115\u001b[0m\n",
      "\u001b[34mEpoch 89/200\u001b[0m\n",
      "\u001b[34m2734/2734 - 10s - loss: 29.9693\u001b[0m\n",
      "\u001b[34mEpoch 90/200\u001b[0m\n",
      "\u001b[34m2734/2734 - 9s - loss: 30.4106\u001b[0m\n",
      "\u001b[34mEpoch 91/200\u001b[0m\n",
      "\u001b[34m2734/2734 - 8s - loss: 28.1625\u001b[0m\n",
      "\u001b[34mEpoch 92/200\u001b[0m\n",
      "\u001b[34m2734/2734 - 8s - loss: 29.1240\u001b[0m\n",
      "\u001b[34mEpoch 93/200\u001b[0m\n",
      "\u001b[34m2734/2734 - 8s - loss: 28.4583\u001b[0m\n",
      "\u001b[34mEpoch 94/200\u001b[0m\n",
      "\u001b[34m2734/2734 - 8s - loss: 29.2902\u001b[0m\n",
      "\u001b[34mEpoch 95/200\u001b[0m\n",
      "\u001b[34m2734/2734 - 8s - loss: 29.2892\u001b[0m\n",
      "\u001b[34mEpoch 96/200\u001b[0m\n",
      "\u001b[34m2734/2734 - 10s - loss: 28.0991\u001b[0m\n",
      "\u001b[34mEpoch 97/200\u001b[0m\n",
      "\u001b[34m2734/2734 - 9s - loss: 27.8351\u001b[0m\n",
      "\u001b[34mEpoch 98/200\u001b[0m\n",
      "\u001b[34m2734/2734 - 8s - loss: 28.8156\u001b[0m\n",
      "\u001b[34mEpoch 99/200\u001b[0m\n",
      "\u001b[34m2734/2734 - 8s - loss: 27.7196\u001b[0m\n",
      "\u001b[34mEpoch 100/200\u001b[0m\n",
      "\u001b[34m2734/2734 - 8s - loss: 27.9220\u001b[0m\n",
      "\u001b[34mEpoch 101/200\u001b[0m\n",
      "\u001b[34m2734/2734 - 8s - loss: 26.7074\u001b[0m\n",
      "\u001b[34mEpoch 102/200\u001b[0m\n",
      "\u001b[34m2734/2734 - 8s - loss: 27.5981\u001b[0m\n",
      "\u001b[34mEpoch 103/200\u001b[0m\n",
      "\u001b[34m2734/2734 - 10s - loss: 25.5298\u001b[0m\n",
      "\u001b[34mEpoch 104/200\u001b[0m\n",
      "\u001b[34m2734/2734 - 8s - loss: 26.8264\u001b[0m\n",
      "\u001b[34mEpoch 105/200\u001b[0m\n",
      "\u001b[34m2734/2734 - 8s - loss: 24.7174\u001b[0m\n",
      "\u001b[34mEpoch 106/200\u001b[0m\n",
      "\u001b[34m2734/2734 - 8s - loss: 25.8045\u001b[0m\n",
      "\u001b[34mEpoch 107/200\u001b[0m\n",
      "\u001b[34m2734/2734 - 8s - loss: 24.5324\u001b[0m\n",
      "\u001b[34mEpoch 108/200\u001b[0m\n",
      "\u001b[34m2734/2734 - 8s - loss: 23.7665\u001b[0m\n",
      "\u001b[34mEpoch 109/200\u001b[0m\n",
      "\u001b[34m2734/2734 - 8s - loss: 25.6143\u001b[0m\n",
      "\u001b[34mEpoch 110/200\u001b[0m\n",
      "\u001b[34m2734/2734 - 10s - loss: 24.8469\u001b[0m\n",
      "\u001b[34mEpoch 111/200\u001b[0m\n",
      "\u001b[34m2734/2734 - 8s - loss: 24.6013\u001b[0m\n",
      "\u001b[34mEpoch 112/200\u001b[0m\n",
      "\u001b[34m2734/2734 - 8s - loss: 23.9155\u001b[0m\n",
      "\u001b[34mEpoch 113/200\u001b[0m\n",
      "\u001b[34m2734/2734 - 8s - loss: 24.3237\u001b[0m\n",
      "\u001b[34mEpoch 114/200\u001b[0m\n",
      "\u001b[34m2734/2734 - 8s - loss: 23.7799\u001b[0m\n",
      "\u001b[34mEpoch 115/200\u001b[0m\n",
      "\u001b[34m2734/2734 - 8s - loss: 23.2256\u001b[0m\n",
      "\u001b[34mEpoch 116/200\u001b[0m\n",
      "\u001b[34m2734/2734 - 8s - loss: 22.6036\u001b[0m\n",
      "\u001b[34mEpoch 117/200\u001b[0m\n",
      "\u001b[34m2734/2734 - 10s - loss: 23.7351\u001b[0m\n",
      "\u001b[34mEpoch 118/200\u001b[0m\n",
      "\u001b[34m2734/2734 - 8s - loss: 22.5396\u001b[0m\n",
      "\u001b[34mEpoch 119/200\u001b[0m\n",
      "\u001b[34m2734/2734 - 8s - loss: 22.7854\u001b[0m\n",
      "\u001b[34mEpoch 120/200\u001b[0m\n",
      "\u001b[34m2734/2734 - 8s - loss: 23.3663\u001b[0m\n",
      "\u001b[34mEpoch 121/200\u001b[0m\n",
      "\u001b[34m2734/2734 - 8s - loss: 23.2137\u001b[0m\n",
      "\u001b[34mEpoch 122/200\u001b[0m\n",
      "\u001b[34m2734/2734 - 9s - loss: 22.5625\u001b[0m\n",
      "\u001b[34mEpoch 123/200\u001b[0m\n",
      "\u001b[34m2734/2734 - 8s - loss: 22.8324\u001b[0m\n",
      "\u001b[34mEpoch 124/200\u001b[0m\n",
      "\u001b[34m2734/2734 - 10s - loss: 21.6279\u001b[0m\n",
      "\u001b[34mEpoch 125/200\u001b[0m\n",
      "\u001b[34m2734/2734 - 8s - loss: 22.0959\u001b[0m\n",
      "\u001b[34mEpoch 126/200\u001b[0m\n",
      "\u001b[34m2734/2734 - 8s - loss: 21.3516\u001b[0m\n",
      "\u001b[34mEpoch 127/200\u001b[0m\n",
      "\u001b[34m2734/2734 - 8s - loss: 20.8318\u001b[0m\n",
      "\u001b[34mEpoch 128/200\u001b[0m\n",
      "\u001b[34m2734/2734 - 8s - loss: 23.4250\u001b[0m\n",
      "\u001b[34mEpoch 129/200\u001b[0m\n",
      "\u001b[34m2734/2734 - 8s - loss: 20.4350\u001b[0m\n",
      "\u001b[34mEpoch 130/200\u001b[0m\n",
      "\u001b[34m2734/2734 - 8s - loss: 20.9472\u001b[0m\n",
      "\u001b[34mEpoch 131/200\u001b[0m\n",
      "\u001b[34m2734/2734 - 10s - loss: 20.1465\u001b[0m\n",
      "\u001b[34mEpoch 132/200\u001b[0m\n",
      "\u001b[34m2734/2734 - 8s - loss: 20.5350\u001b[0m\n",
      "\u001b[34mEpoch 133/200\u001b[0m\n",
      "\u001b[34m2734/2734 - 9s - loss: 21.1000\u001b[0m\n",
      "\u001b[34mEpoch 134/200\u001b[0m\n",
      "\u001b[34m2734/2734 - 8s - loss: 20.2293\u001b[0m\n",
      "\u001b[34mEpoch 135/200\u001b[0m\n",
      "\u001b[34m2734/2734 - 8s - loss: 20.2343\u001b[0m\n",
      "\u001b[34mEpoch 136/200\u001b[0m\n",
      "\u001b[34m2734/2734 - 8s - loss: 19.9382\u001b[0m\n",
      "\u001b[34mEpoch 137/200\u001b[0m\n",
      "\u001b[34m2734/2734 - 8s - loss: 20.3145\u001b[0m\n",
      "\u001b[34mEpoch 138/200\u001b[0m\n",
      "\u001b[34m2734/2734 - 10s - loss: 20.1359\u001b[0m\n",
      "\u001b[34mEpoch 139/200\u001b[0m\n",
      "\u001b[34m2734/2734 - 8s - loss: 19.4652\u001b[0m\n",
      "\u001b[34mEpoch 140/200\u001b[0m\n",
      "\u001b[34m2734/2734 - 8s - loss: 19.2729\u001b[0m\n",
      "\u001b[34mEpoch 141/200\u001b[0m\n",
      "\u001b[34m2734/2734 - 8s - loss: 19.2671\u001b[0m\n",
      "\u001b[34mEpoch 142/200\u001b[0m\n",
      "\u001b[34m2734/2734 - 8s - loss: 19.5071\u001b[0m\n",
      "\u001b[34mEpoch 143/200\u001b[0m\n",
      "\u001b[34m2734/2734 - 8s - loss: 19.8505\u001b[0m\n",
      "\u001b[34mEpoch 144/200\u001b[0m\n",
      "\u001b[34m2734/2734 - 9s - loss: 18.0972\u001b[0m\n",
      "\u001b[34mEpoch 145/200\u001b[0m\n",
      "\u001b[34m2734/2734 - 10s - loss: 18.7024\u001b[0m\n",
      "\u001b[34mEpoch 146/200\u001b[0m\n",
      "\u001b[34m2734/2734 - 8s - loss: 19.4646\u001b[0m\n",
      "\u001b[34mEpoch 147/200\u001b[0m\n",
      "\u001b[34m2734/2734 - 8s - loss: 18.5679\u001b[0m\n",
      "\u001b[34mEpoch 148/200\u001b[0m\n",
      "\u001b[34m2734/2734 - 9s - loss: 18.8622\u001b[0m\n",
      "\u001b[34mEpoch 149/200\u001b[0m\n",
      "\u001b[34m2734/2734 - 8s - loss: 18.4741\u001b[0m\n",
      "\u001b[34mEpoch 150/200\u001b[0m\n",
      "\u001b[34m2734/2734 - 8s - loss: 17.8051\u001b[0m\n",
      "\u001b[34mEpoch 151/200\u001b[0m\n",
      "\u001b[34m2734/2734 - 8s - loss: 17.7149\u001b[0m\n",
      "\u001b[34mEpoch 152/200\u001b[0m\n",
      "\u001b[34m2734/2734 - 10s - loss: 17.9849\u001b[0m\n",
      "\u001b[34mEpoch 153/200\u001b[0m\n",
      "\u001b[34m2734/2734 - 8s - loss: 16.9451\u001b[0m\n",
      "\u001b[34mEpoch 154/200\u001b[0m\n",
      "\u001b[34m2734/2734 - 8s - loss: 17.8905\u001b[0m\n",
      "\u001b[34mEpoch 155/200\u001b[0m\n",
      "\u001b[34m2734/2734 - 8s - loss: 18.0510\u001b[0m\n",
      "\u001b[34mEpoch 156/200\u001b[0m\n",
      "\u001b[34m2734/2734 - 8s - loss: 17.8767\u001b[0m\n",
      "\u001b[34mEpoch 157/200\u001b[0m\n",
      "\u001b[34m2734/2734 - 8s - loss: 17.7076\u001b[0m\n",
      "\u001b[34mEpoch 158/200\u001b[0m\n",
      "\u001b[34m2734/2734 - 9s - loss: 16.6619\u001b[0m\n",
      "\u001b[34mEpoch 159/200\u001b[0m\n",
      "\u001b[34m2734/2734 - 11s - loss: 17.7571\u001b[0m\n",
      "\u001b[34mEpoch 160/200\u001b[0m\n",
      "\u001b[34m2734/2734 - 8s - loss: 17.1819\u001b[0m\n",
      "\u001b[34mEpoch 161/200\u001b[0m\n",
      "\u001b[34m2734/2734 - 8s - loss: 17.6924\u001b[0m\n",
      "\u001b[34mEpoch 162/200\u001b[0m\n",
      "\u001b[34m2734/2734 - 8s - loss: 16.8708\u001b[0m\n",
      "\u001b[34mEpoch 163/200\u001b[0m\n",
      "\u001b[34m2734/2734 - 8s - loss: 17.3607\u001b[0m\n",
      "\u001b[34mEpoch 164/200\u001b[0m\n",
      "\u001b[34m2734/2734 - 8s - loss: 17.2103\u001b[0m\n",
      "\u001b[34mEpoch 165/200\u001b[0m\n",
      "\u001b[34m2734/2734 - 8s - loss: 18.2162\u001b[0m\n",
      "\u001b[34mEpoch 166/200\u001b[0m\n",
      "\u001b[34m2734/2734 - 9s - loss: 16.6934\u001b[0m\n",
      "\u001b[34mEpoch 167/200\u001b[0m\n",
      "\u001b[34m2734/2734 - 9s - loss: 17.1295\u001b[0m\n",
      "\u001b[34mEpoch 168/200\u001b[0m\n",
      "\u001b[34m2734/2734 - 8s - loss: 16.5293\u001b[0m\n",
      "\u001b[34mEpoch 169/200\u001b[0m\n",
      "\u001b[34m2734/2734 - 8s - loss: 16.4340\u001b[0m\n",
      "\u001b[34mEpoch 170/200\u001b[0m\n",
      "\u001b[34m2734/2734 - 8s - loss: 16.2172\u001b[0m\n",
      "\u001b[34mEpoch 171/200\u001b[0m\n",
      "\u001b[34m2734/2734 - 8s - loss: 15.3371\u001b[0m\n",
      "\u001b[34mEpoch 172/200\u001b[0m\n",
      "\u001b[34m2734/2734 - 8s - loss: 16.3241\u001b[0m\n",
      "\u001b[34mEpoch 173/200\u001b[0m\n",
      "\u001b[34m2734/2734 - 9s - loss: 17.2378\u001b[0m\n",
      "\u001b[34mEpoch 174/200\u001b[0m\n",
      "\u001b[34m2734/2734 - 10s - loss: 16.0045\u001b[0m\n",
      "\u001b[34mEpoch 175/200\u001b[0m\n",
      "\u001b[34m2734/2734 - 8s - loss: 14.9918\u001b[0m\n",
      "\u001b[34mEpoch 176/200\u001b[0m\n",
      "\u001b[34m2734/2734 - 8s - loss: 17.4183\u001b[0m\n",
      "\u001b[34mEpoch 177/200\u001b[0m\n",
      "\u001b[34m2734/2734 - 8s - loss: 15.0723\u001b[0m\n",
      "\u001b[34mEpoch 178/200\u001b[0m\n",
      "\u001b[34m2734/2734 - 8s - loss: 15.8673\u001b[0m\n",
      "\u001b[34mEpoch 179/200\u001b[0m\n",
      "\u001b[34m2734/2734 - 8s - loss: 15.8677\u001b[0m\n",
      "\u001b[34mEpoch 180/200\u001b[0m\n",
      "\u001b[34m2734/2734 - 9s - loss: 14.4023\u001b[0m\n",
      "\u001b[34mEpoch 181/200\u001b[0m\n",
      "\u001b[34m2734/2734 - 10s - loss: 15.5199\u001b[0m\n",
      "\u001b[34mEpoch 182/200\u001b[0m\n",
      "\u001b[34m2734/2734 - 8s - loss: 15.0976\u001b[0m\n",
      "\u001b[34mEpoch 183/200\u001b[0m\n",
      "\u001b[34m2734/2734 - 8s - loss: 15.1541\u001b[0m\n",
      "\u001b[34mEpoch 184/200\u001b[0m\n",
      "\u001b[34m2734/2734 - 8s - loss: 15.4259\u001b[0m\n",
      "\u001b[34mEpoch 185/200\u001b[0m\n",
      "\u001b[34m2734/2734 - 8s - loss: 16.0159\u001b[0m\n",
      "\u001b[34mEpoch 186/200\u001b[0m\n",
      "\u001b[34m2734/2734 - 8s - loss: 15.3687\u001b[0m\n",
      "\u001b[34mEpoch 187/200\u001b[0m\n",
      "\u001b[34m2734/2734 - 8s - loss: 14.3700\u001b[0m\n",
      "\u001b[34mEpoch 188/200\u001b[0m\n",
      "\u001b[34m2734/2734 - 10s - loss: 15.8120\u001b[0m\n",
      "\u001b[34mEpoch 189/200\u001b[0m\n",
      "\u001b[34m2734/2734 - 8s - loss: 14.8437\u001b[0m\n",
      "\u001b[34mEpoch 190/200\u001b[0m\n",
      "\u001b[34m2734/2734 - 8s - loss: 14.4136\u001b[0m\n",
      "\u001b[34mEpoch 191/200\u001b[0m\n",
      "\u001b[34m2734/2734 - 8s - loss: 15.5256\u001b[0m\n",
      "\u001b[34mEpoch 192/200\u001b[0m\n",
      "\u001b[34m2734/2734 - 8s - loss: 14.0127\u001b[0m\n",
      "\u001b[34mEpoch 193/200\u001b[0m\n",
      "\u001b[34m2734/2734 - 8s - loss: 14.1073\u001b[0m\n",
      "\u001b[34mEpoch 194/200\u001b[0m\n",
      "\u001b[34m2734/2734 - 9s - loss: 14.2091\u001b[0m\n",
      "\u001b[34mEpoch 195/200\u001b[0m\n",
      "\u001b[34m2734/2734 - 10s - loss: 13.9691\u001b[0m\n",
      "\u001b[34mEpoch 196/200\u001b[0m\n",
      "\u001b[34m2734/2734 - 8s - loss: 14.5609\u001b[0m\n",
      "\u001b[34mEpoch 197/200\u001b[0m\n",
      "\u001b[34m2734/2734 - 8s - loss: 14.5695\u001b[0m\n",
      "\u001b[34mEpoch 198/200\u001b[0m\n",
      "\u001b[34m2734/2734 - 9s - loss: 14.0116\u001b[0m\n",
      "\u001b[34mEpoch 199/200\u001b[0m\n",
      "\u001b[34m2734/2734 - 8s - loss: 14.8713\u001b[0m\n",
      "\u001b[34mEpoch 200/200\u001b[0m\n",
      "\u001b[34m2734/2734 - 8s - loss: 13.8463\u001b[0m\n",
      "\u001b[34mmodel saved\u001b[0m\n",
      "\u001b[34mModel: \"sequential\"\u001b[0m\n",
      "\u001b[34m_________________________________________________________________\u001b[0m\n",
      "\u001b[34mLayer (type)                 Output Shape              Param #   \u001b[0m\n",
      "\u001b[34m=================================================================\u001b[0m\n",
      "\u001b[34mdense (Dense)                (None, 25)                400       \u001b[0m\n",
      "\u001b[34m_________________________________________________________________\u001b[0m\n",
      "\u001b[34mdense_1 (Dense)              (None, 25)                650       \u001b[0m\n",
      "\u001b[34m_________________________________________________________________\u001b[0m\n",
      "\u001b[34mdense_2 (Dense)              (None, 25)                650       \u001b[0m\n",
      "\u001b[34m_________________________________________________________________\u001b[0m\n",
      "\u001b[34mdense_3 (Dense)              (None, 25)                650       \u001b[0m\n",
      "\u001b[34m_________________________________________________________________\u001b[0m\n",
      "\u001b[34mdense_4 (Dense)              (None, 1)                 26        \u001b[0m\n",
      "\u001b[34m=================================================================\u001b[0m\n",
      "\u001b[34mTotal params: 2,376\u001b[0m\n",
      "\u001b[34mTrainable params: 2,376\u001b[0m\n",
      "\u001b[34mNon-trainable params: 0\u001b[0m\n",
      "\u001b[34m_________________________________________________________________\u001b[0m\n",
      "\u001b[34mNone\u001b[0m\n",
      "\u001b[34m2021-06-27 10:33:34.163776: W tensorflow/core/profiler/internal/smprofiler_timeline.cc:460] Initializing the SageMaker Profiler.\u001b[0m\n",
      "\u001b[34m2021-06-27 10:33:34.163893: W tensorflow/core/profiler/internal/smprofiler_timeline.cc:105] SageMaker Profiler is not enabled. The timeline writer thread will not be started, future recorded events will be dropped.\u001b[0m\n",
      "\u001b[34m2021-06-27 10:33:34.193565: W tensorflow/core/profiler/internal/smprofiler_timeline.cc:460] Initializing the SageMaker Profiler.\u001b[0m\n",
      "\u001b[34m2021-06-27 11:01:51.090986: W tensorflow/python/util/util.cc:348] Sets are not currently considered sequences, but this may change in the future, so consider avoiding using them.\u001b[0m\n",
      "\u001b[34mINFO:tensorflow:Assets written to: s3://sagemaker-us-east-1-286722933665/tensorflow-training-2021-06-27-10-29-51-541/model/model_ann/assets\u001b[0m\n",
      "\u001b[34mINFO:tensorflow:Assets written to: s3://sagemaker-us-east-1-286722933665/tensorflow-training-2021-06-27-10-29-51-541/model/model_ann/assets\n",
      "\u001b[0m\n",
      "\u001b[34m2021-06-27 11:01:53,024 sagemaker_tensorflow_container.training WARNING  No model artifact is saved under path /opt/ml/model. Your training job will not save any model files to S3.\u001b[0m\n",
      "\u001b[34mFor details of how to construct your training script see:\u001b[0m\n",
      "\u001b[34mhttps://sagemaker.readthedocs.io/en/stable/using_tf.html#adapting-your-local-tensorflow-script\u001b[0m\n",
      "\u001b[34m2021-06-27 11:01:53,024 sagemaker-training-toolkit INFO     Reporting training SUCCESS\u001b[0m\n",
      "\n",
      "2021-06-27 11:02:18 Uploading - Uploading generated training model\n",
      "2021-06-27 11:02:18 Completed - Training job completed\n",
      "ProfilerReport-1624789791: NoIssuesFound\n",
      "Training seconds: 1791\n",
      "Billable seconds: 1791\n",
      "CPU times: user 4.71 s, sys: 241 ms, total: 4.95 s\n",
      "Wall time: 32min 42s\n"
     ]
    }
   ],
   "source": [
    "%%time\n",
    "# Train your estimator on S3 training data\n",
    "\n",
    "estimator.fit({'train': input_data})"
   ]
  },
  {
   "cell_type": "markdown",
   "metadata": {},
   "source": [
    "### Load the saved model"
   ]
  },
  {
   "cell_type": "code",
   "execution_count": 12,
   "metadata": {},
   "outputs": [
    {
     "name": "stdout",
     "output_type": "stream",
     "text": [
      "WARNING:tensorflow:From /home/ec2-user/anaconda3/envs/tensorflow_p36/cpu/lib/python3.6/site-packages/tensorflow_core/python/ops/resource_variable_ops.py:1781: calling BaseResourceVariable.__init__ (from tensorflow.python.ops.resource_variable_ops) with constraint is deprecated and will be removed in a future version.\n",
      "Instructions for updating:\n",
      "If using Keras pass *_constraint arguments to layers.\n",
      "Model: \"sequential\"\n",
      "_________________________________________________________________\n",
      "Layer (type)                 Output Shape              Param #   \n",
      "=================================================================\n",
      "dense (Dense)                multiple                  400       \n",
      "_________________________________________________________________\n",
      "dense_1 (Dense)              multiple                  650       \n",
      "_________________________________________________________________\n",
      "dense_2 (Dense)              multiple                  650       \n",
      "_________________________________________________________________\n",
      "dense_3 (Dense)              multiple                  650       \n",
      "_________________________________________________________________\n",
      "dense_4 (Dense)              multiple                  26        \n",
      "=================================================================\n",
      "Total params: 2,376\n",
      "Trainable params: 2,376\n",
      "Non-trainable params: 0\n",
      "_________________________________________________________________\n"
     ]
    }
   ],
   "source": [
    "#model_ann = tf.keras.models.load_model(model_location)\n",
    "model_ann = tf.keras.models.load_model('s3://sagemaker-us-east-1-286722933665/tensorflow-training-2021-06-27-10-29-51-541/model/model_ann', compile=False)\n",
    "model_ann.compile(optimizer='adam', loss='mean_squared_error')\n",
    "\n",
    "# Check its architecture\n",
    "model_ann.summary()"
   ]
  },
  {
   "cell_type": "code",
   "execution_count": 9,
   "metadata": {},
   "outputs": [],
   "source": [
    "test_data = pd.read_csv('data/train_test/test.csv', header=None, names=None, low_memory=False, skiprows=1, skipinitialspace=True)"
   ]
  },
  {
   "cell_type": "code",
   "execution_count": 13,
   "metadata": {},
   "outputs": [],
   "source": [
    "# Measured values are in the last column\n",
    "test_x = test_data.iloc[:,:15].values\n",
    "test_y = test_data.iloc[:,-1].values"
   ]
  },
  {
   "cell_type": "code",
   "execution_count": 14,
   "metadata": {},
   "outputs": [
    {
     "name": "stdout",
     "output_type": "stream",
     "text": [
      "WARNING:tensorflow:OMP_NUM_THREADS is no longer used by the default Keras config. To configure the number of threads, use tf.config.threading APIs.\n"
     ]
    },
    {
     "data": {
      "text/plain": [
       "array([[-26.213146],\n",
       "       [ 32.8555  ],\n",
       "       [-36.703163],\n",
       "       ...,\n",
       "       [ 64.86883 ],\n",
       "       [ 51.582653],\n",
       "       [-42.496548]], dtype=float32)"
      ]
     },
     "execution_count": 14,
     "metadata": {},
     "output_type": "execute_result"
    }
   ],
   "source": [
    "# Make predictions\n",
    "y_pred = model_ann.predict(test_x)\n",
    "y_pred"
   ]
  },
  {
   "cell_type": "markdown",
   "metadata": {},
   "source": [
    "#### Compare predictions side by side"
   ]
  },
  {
   "cell_type": "code",
   "execution_count": 15,
   "metadata": {},
   "outputs": [
    {
     "name": "stdout",
     "output_type": "stream",
     "text": [
      "[[-26.21 -27.02]\n",
      " [ 32.86  38.73]\n",
      " [-36.7  -37.97]\n",
      " ...\n",
      " [ 64.87  63.94]\n",
      " [ 51.58  49.09]\n",
      " [-42.5  -37.43]]\n"
     ]
    }
   ],
   "source": [
    "np.set_printoptions(precision=2)\n",
    "print(np.concatenate((y_pred.reshape(len(y_pred),1), test_y.reshape(len(test_y),1)),1))"
   ]
  },
  {
   "cell_type": "markdown",
   "metadata": {},
   "source": [
    "#### Compare model prediction using confusion matrix because we have true values of whether prediction has occured or not. \n",
    "collision distance > 0: No collision\n",
    "collision distance <= 0: Collision "
   ]
  },
  {
   "cell_type": "code",
   "execution_count": 16,
   "metadata": {},
   "outputs": [
    {
     "data": {
      "text/plain": [
       "9715"
      ]
     },
     "execution_count": 16,
     "metadata": {},
     "output_type": "execute_result"
    }
   ],
   "source": [
    "col_pred = []\n",
    "for pred in y_pred:\n",
    "  if pred > 0:\n",
    "    col_pred.append(0)\n",
    "  else:\n",
    "    col_pred.append(1)\n",
    "\n",
    "len(col_pred)"
   ]
  },
  {
   "cell_type": "code",
   "execution_count": 17,
   "metadata": {},
   "outputs": [
    {
     "data": {
      "text/plain": [
       "9715"
      ]
     },
     "execution_count": 17,
     "metadata": {},
     "output_type": "execute_result"
    }
   ],
   "source": [
    "col_true = []\n",
    "for pred in test_y:\n",
    "  if pred > 0:\n",
    "    col_true.append(0)\n",
    "  else:\n",
    "    col_true.append(1)\n",
    "\n",
    "len(col_true)"
   ]
  },
  {
   "cell_type": "code",
   "execution_count": 18,
   "metadata": {},
   "outputs": [
    {
     "name": "stdout",
     "output_type": "stream",
     "text": [
      "[[3083   45]\n",
      " [  89 6498]]\n",
      "0.9862068965517241\n"
     ]
    }
   ],
   "source": [
    "from sklearn.metrics import confusion_matrix, accuracy_score\n",
    "cm = confusion_matrix(col_pred, col_true)\n",
    "print(cm)\n",
    "print(accuracy_score(col_pred, col_true))"
   ]
  },
  {
   "cell_type": "markdown",
   "metadata": {},
   "source": [
    "As can be seen from the confusion matrix above, the accuracy is now 98.62% for 9715 variations which is really good."
   ]
  },
  {
   "cell_type": "markdown",
   "metadata": {},
   "source": [
    "Next we predict collision distances for new observations from new vehicle prototypes and for vehicle speeds outside the range of what was used for training the model. This is a short (validation) dataset but it will test the effectiveness of the model outside the training range."
   ]
  },
  {
   "cell_type": "code",
   "execution_count": 19,
   "metadata": {},
   "outputs": [],
   "source": [
    "validation_data = pd.read_csv('data/train_test/validation_test.csv', header=None, names=None, low_memory=False, skiprows=1, skipinitialspace=True)"
   ]
  },
  {
   "cell_type": "code",
   "execution_count": 20,
   "metadata": {},
   "outputs": [],
   "source": [
    "val_x = validation_data.iloc[:,:15].values\n",
    "val_y = validation_data.iloc[:,15].values"
   ]
  },
  {
   "cell_type": "code",
   "execution_count": 21,
   "metadata": {},
   "outputs": [],
   "source": [
    "val_pred = model_ann.predict(val_x)\n",
    "col_pred = []\n",
    "for pred in val_pred:\n",
    "  if pred > 0:\n",
    "    col_pred.append(0)\n",
    "  else:\n",
    "    col_pred.append(1)"
   ]
  },
  {
   "cell_type": "code",
   "execution_count": 22,
   "metadata": {},
   "outputs": [
    {
     "name": "stdout",
     "output_type": "stream",
     "text": [
      "[[20  1]\n",
      " [ 0 13]]\n",
      "0.9705882352941176\n"
     ]
    }
   ],
   "source": [
    "from sklearn.metrics import confusion_matrix, accuracy_score\n",
    "cm = confusion_matrix(col_pred, val_y)\n",
    "print(cm)\n",
    "print(accuracy_score(col_pred, val_y))"
   ]
  },
  {
   "cell_type": "code",
   "execution_count": 23,
   "metadata": {},
   "outputs": [
    {
     "name": "stdout",
     "output_type": "stream",
     "text": [
      "[[  30.32   26.22    0.  ]\n",
      " [  13.87   14.85    0.  ]\n",
      " [  -6.28   -4.58    1.  ]\n",
      " [ -51.49  -45.45    1.  ]\n",
      " [ -80.02  -77.95    1.  ]\n",
      " [ 107.47  103.78    0.  ]\n",
      " [  92.71   95.84    0.  ]\n",
      " [  74.17   82.72    0.  ]\n",
      " [  37.14   53.31    0.  ]\n",
      " [   8.38   33.27    0.  ]\n",
      " [  48.63   49.15    0.  ]\n",
      " [  40.19   39.53    0.  ]\n",
      " [  20.09   23.      0.  ]\n",
      " [ -22.93  -14.69    1.  ]\n",
      " [ -45.89  -41.12    1.  ]\n",
      " [-105.52  -70.15    1.  ]\n",
      " [-161.51  -86.82    1.  ]\n",
      " [  97.84   89.38    0.  ]\n",
      " [  81.42   79.01    0.  ]\n",
      " [  65.4    61.01    0.  ]\n",
      " [  29.75   21.85    0.  ]\n",
      " [   8.91   -5.59    1.  ]\n",
      " [ -18.05  -36.63    1.  ]\n",
      " [ -34.54  -53.69    1.  ]\n",
      " [  32.72   31.91    0.  ]\n",
      " [  19.54   22.74    0.  ]\n",
      " [   3.63    8.24    0.  ]\n",
      " [ -37.21  -26.44    1.  ]\n",
      " [ -59.72  -49.58    1.  ]\n",
      " [  35.46   32.56    0.  ]\n",
      " [  26.83   23.6     0.  ]\n",
      " [   9.91    9.42    0.  ]\n",
      " [ -20.57  -24.66    1.  ]\n",
      " [ -43.05  -47.43    1.  ]]\n"
     ]
    }
   ],
   "source": [
    "val_y_dist = validation_data.iloc[:, 16].values\n",
    "print(np.concatenate((val_pred.reshape(len(val_pred),1), val_y_dist.reshape(len(val_y_dist),1), val_y.reshape(len(val_y),1),),1))\n",
    "# First column: predicted dist to collision, second column: simulated dist to collision, third column: binary value if collision occured or not"
   ]
  },
  {
   "cell_type": "markdown",
   "metadata": {},
   "source": [
    "As can been seen from the results of the validation test above with new neural network, only 1 out of 34 collision predictions is wrong and the error values in 'collision distance' prediction is much better than before. Hence we will now change the neural network architecture, retrain the model anew and test the performance again."
   ]
  },
  {
   "cell_type": "markdown",
   "metadata": {},
   "source": [
    "<b> An interesting observation is that though the error in prediction has drastically reduced (in other words improved), the highest error occurs for features where vehicle speed falls outside the range of the training feature set. Where the prediction is wrong in this case, the vehicle speed was 150kph, whereas the training speed range was between 80kph - 140kph only! </b>"
   ]
  },
  {
   "cell_type": "markdown",
   "metadata": {},
   "source": [
    "At this point, I will create a new set of test variations (~1300) with higher vehicle speeds and different variations of brake parameters and vehicle center of gravity longitudinal locations. Then this small dataset will be added to the original dataset and the model will be retrained. Then we will check the accuracy of the model again."
   ]
  },
  {
   "cell_type": "markdown",
   "metadata": {},
   "source": [
    "## Upload the updated training and test data to S3"
   ]
  },
  {
   "cell_type": "code",
   "execution_count": 31,
   "metadata": {},
   "outputs": [
    {
     "name": "stdout",
     "output_type": "stream",
     "text": [
      "s3://sagemaker-us-east-1-286722933665/capstone_edgecase/new\n"
     ]
    }
   ],
   "source": [
    "# should be the name of directory you created to save your features data\n",
    "data_dir = 'data/new_train_test'\n",
    "\n",
    "# set prefix, a descriptive name for a directory  \n",
    "prefix = 'capstone_edgecase/new'\n",
    "\n",
    "# upload all data to S3\n",
    "input_data = sagemaker_session.upload_data(path=data_dir, bucket=bucket, key_prefix=prefix)\n",
    "print(input_data)"
   ]
  },
  {
   "cell_type": "markdown",
   "metadata": {},
   "source": [
    "## Modelling"
   ]
  },
  {
   "cell_type": "markdown",
   "metadata": {},
   "source": [
    "We will use the same neural network architecture as the previous one since the results were very accurate"
   ]
  },
  {
   "cell_type": "code",
   "execution_count": 26,
   "metadata": {},
   "outputs": [
    {
     "name": "stdout",
     "output_type": "stream",
     "text": [
      "\u001b[34mfrom\u001b[39;49;00m \u001b[04m\u001b[36m__future__\u001b[39;49;00m \u001b[34mimport\u001b[39;49;00m print_function\n",
      "\n",
      "\u001b[34mimport\u001b[39;49;00m \u001b[04m\u001b[36margparse\u001b[39;49;00m\n",
      "\u001b[34mimport\u001b[39;49;00m \u001b[04m\u001b[36mos\u001b[39;49;00m\n",
      "\u001b[34mimport\u001b[39;49;00m \u001b[04m\u001b[36mnumpy\u001b[39;49;00m \u001b[34mas\u001b[39;49;00m \u001b[04m\u001b[36mnp\u001b[39;49;00m\n",
      "\u001b[34mimport\u001b[39;49;00m \u001b[04m\u001b[36mpandas\u001b[39;49;00m \u001b[34mas\u001b[39;49;00m \u001b[04m\u001b[36mpd\u001b[39;49;00m\n",
      "\n",
      "\u001b[37m# sklearn.externals.joblib is deprecated in 0.21 and will be removed in 0.23. \u001b[39;49;00m\n",
      "\u001b[37m# from sklearn.externals import joblib\u001b[39;49;00m\n",
      "\u001b[37m# Import joblib package directly\u001b[39;49;00m\n",
      "\u001b[37m#import joblib\u001b[39;49;00m\n",
      "\n",
      "\u001b[37m## Import any additional libraries you need to define a model\u001b[39;49;00m\n",
      "\u001b[34mimport\u001b[39;49;00m \u001b[04m\u001b[36mtensorflow\u001b[39;49;00m \u001b[34mas\u001b[39;49;00m \u001b[04m\u001b[36mtf\u001b[39;49;00m\n",
      "\n",
      "\u001b[37m# Provided model load function\u001b[39;49;00m\n",
      "\u001b[37m#def model_fn(model_dir):\u001b[39;49;00m\n",
      "\n",
      "\n",
      "\u001b[37m## The main code\u001b[39;49;00m\n",
      "\u001b[34mif\u001b[39;49;00m \u001b[31m__name__\u001b[39;49;00m == \u001b[33m'\u001b[39;49;00m\u001b[33m__main__\u001b[39;49;00m\u001b[33m'\u001b[39;49;00m:\n",
      "    \n",
      "    \u001b[37m# All of the model parameters and training parameters are sent as arguments\u001b[39;49;00m\n",
      "    \u001b[37m# when this script is executed, during a training job\u001b[39;49;00m\n",
      "    \n",
      "    \u001b[37m# Here we set up an argument parser to easily access the parameters\u001b[39;49;00m\n",
      "    parser = argparse.ArgumentParser()\n",
      "\n",
      "    \u001b[37m# SageMaker parameters, like the directories for training data and saving models; set automatically\u001b[39;49;00m\n",
      "    \u001b[37m# Do not need to change\u001b[39;49;00m\n",
      "    parser.add_argument(\u001b[33m'\u001b[39;49;00m\u001b[33m--output-data-dir\u001b[39;49;00m\u001b[33m'\u001b[39;49;00m, \u001b[36mtype\u001b[39;49;00m=\u001b[36mstr\u001b[39;49;00m, default=os.environ[\u001b[33m'\u001b[39;49;00m\u001b[33mSM_OUTPUT_DATA_DIR\u001b[39;49;00m\u001b[33m'\u001b[39;49;00m])\n",
      "    parser.add_argument(\u001b[33m'\u001b[39;49;00m\u001b[33m--model_dir\u001b[39;49;00m\u001b[33m'\u001b[39;49;00m, \u001b[36mtype\u001b[39;49;00m=\u001b[36mstr\u001b[39;49;00m)\n",
      "    parser.add_argument(\u001b[33m'\u001b[39;49;00m\u001b[33m--data-dir\u001b[39;49;00m\u001b[33m'\u001b[39;49;00m, \u001b[36mtype\u001b[39;49;00m=\u001b[36mstr\u001b[39;49;00m, default=os.environ[\u001b[33m'\u001b[39;49;00m\u001b[33mSM_CHANNEL_TRAIN\u001b[39;49;00m\u001b[33m'\u001b[39;49;00m])\n",
      "    \n",
      "    \u001b[37m## TODO: Add any additional arguments that you will need to pass into your model\u001b[39;49;00m\n",
      "    \n",
      "    \u001b[37m# args holds all passed-in arguments\u001b[39;49;00m\n",
      "    args = parser.parse_args()\n",
      "\n",
      "    \u001b[37m# Read in csv training file\u001b[39;49;00m\n",
      "    training_dir = args.data_dir\n",
      "    train_data = pd.read_csv(os.path.join(training_dir, \u001b[33m\"\u001b[39;49;00m\u001b[33mtrain.csv\u001b[39;49;00m\u001b[33m\"\u001b[39;49;00m), header=\u001b[34mNone\u001b[39;49;00m, names=\u001b[34mNone\u001b[39;49;00m, low_memory=\u001b[34mFalse\u001b[39;49;00m, skiprows=\u001b[34m1\u001b[39;49;00m, skipinitialspace=\u001b[34mTrue\u001b[39;49;00m)\n",
      "\n",
      "    \u001b[37m# Measured values are in the last column\u001b[39;49;00m\n",
      "    train_x = train_data.iloc[:,:\u001b[34m15\u001b[39;49;00m].values\n",
      "    train_y = train_data.iloc[:,-\u001b[34m1\u001b[39;49;00m].values\n",
      "    \n",
      "\n",
      "    \u001b[37m## Define a model \u001b[39;49;00m\n",
      "    model = tf.keras.models.Sequential()\n",
      "    \n",
      "    \u001b[37m# Adding the input layer and the first hidden layer\u001b[39;49;00m\n",
      "    units = \u001b[34m25\u001b[39;49;00m  \u001b[37m# no. of hidden neurons \u001b[39;49;00m\n",
      "    activation  = \u001b[33m'\u001b[39;49;00m\u001b[33mrelu\u001b[39;49;00m\u001b[33m'\u001b[39;49;00m \u001b[37m# activation function 'rectifier'\u001b[39;49;00m\n",
      "    model.add(tf.keras.layers.Dense(units=units, activation=activation))\n",
      "    \n",
      "    \u001b[37m# Adding the second hidden layer\u001b[39;49;00m\n",
      "    units = \u001b[34m25\u001b[39;49;00m  \u001b[37m# no. of hidden neurons\u001b[39;49;00m\n",
      "    activation  = \u001b[33m'\u001b[39;49;00m\u001b[33mrelu\u001b[39;49;00m\u001b[33m'\u001b[39;49;00m \n",
      "    model.add(tf.keras.layers.Dense(units=units, activation=activation))\n",
      "    \n",
      "    \u001b[37m# Adding the third hidden layer\u001b[39;49;00m\n",
      "    units = \u001b[34m25\u001b[39;49;00m  \u001b[37m# no. of hidden neurons\u001b[39;49;00m\n",
      "    activation  = \u001b[33m'\u001b[39;49;00m\u001b[33mrelu\u001b[39;49;00m\u001b[33m'\u001b[39;49;00m \n",
      "    model.add(tf.keras.layers.Dense(units=units, activation=activation))\n",
      "    \n",
      "    \u001b[37m# Adding the fourth hidden layer\u001b[39;49;00m\n",
      "    units = \u001b[34m25\u001b[39;49;00m  \u001b[37m# no. of hidden neurons\u001b[39;49;00m\n",
      "    activation  = \u001b[33m'\u001b[39;49;00m\u001b[33mrelu\u001b[39;49;00m\u001b[33m'\u001b[39;49;00m \n",
      "    model.add(tf.keras.layers.Dense(units=units, activation=activation))\n",
      "    \n",
      "    \u001b[37m# Adding the output layer\u001b[39;49;00m\n",
      "    units = \u001b[34m1\u001b[39;49;00m \u001b[37m# the no. of output neurons is just 1 here coz the output is binary \u001b[39;49;00m\n",
      "    model.add(tf.keras.layers.Dense(units=units))\n",
      "    \n",
      "    \u001b[37m# Compiling the ANN\u001b[39;49;00m\n",
      "    model.compile(optimizer=\u001b[33m'\u001b[39;49;00m\u001b[33madam\u001b[39;49;00m\u001b[33m'\u001b[39;49;00m, loss=\u001b[33m'\u001b[39;49;00m\u001b[33mmean_squared_error\u001b[39;49;00m\u001b[33m'\u001b[39;49;00m)\n",
      "    \n",
      "    \n",
      "    \u001b[37m## Train the model\u001b[39;49;00m\n",
      "    batch_size =  \u001b[34m32\u001b[39;49;00m\n",
      "    epochs = \u001b[34m200\u001b[39;49;00m\n",
      "    model.fit(train_x, train_y, batch_size=batch_size, epochs=epochs, verbose=\u001b[34m2\u001b[39;49;00m)\n",
      "    \n",
      "\n",
      "    \u001b[37m# Save the trained model\u001b[39;49;00m\n",
      "    \u001b[37m#model.save(\"model_ann_1\", save_format=\"h5\")\u001b[39;49;00m\n",
      "    model.save(os.path.join(args.model_dir, \u001b[33m'\u001b[39;49;00m\u001b[33mmodel_ann\u001b[39;49;00m\u001b[33m'\u001b[39;49;00m), \u001b[33m'\u001b[39;49;00m\u001b[33mmy_model.h5\u001b[39;49;00m\u001b[33m'\u001b[39;49;00m)\n",
      "    \u001b[36mprint\u001b[39;49;00m(\u001b[33m\"\u001b[39;49;00m\u001b[33mmodel saved\u001b[39;49;00m\u001b[33m\"\u001b[39;49;00m)\n",
      "    \u001b[36mprint\u001b[39;49;00m(model.summary())\n"
     ]
    }
   ],
   "source": [
    "!pygmentize source_tfkeras/train.py"
   ]
  },
  {
   "cell_type": "markdown",
   "metadata": {},
   "source": [
    "## Create an Estimator"
   ]
  },
  {
   "cell_type": "code",
   "execution_count": 32,
   "metadata": {},
   "outputs": [
    {
     "name": "stderr",
     "output_type": "stream",
     "text": [
      "train_instance_type has been renamed in sagemaker>=2.\n",
      "See: https://sagemaker.readthedocs.io/en/stable/v2.html for details.\n",
      "train_instance_count has been renamed in sagemaker>=2.\n",
      "See: https://sagemaker.readthedocs.io/en/stable/v2.html for details.\n",
      "train_instance_type has been renamed in sagemaker>=2.\n",
      "See: https://sagemaker.readthedocs.io/en/stable/v2.html for details.\n"
     ]
    }
   ],
   "source": [
    "from sagemaker.tensorflow import TensorFlow\n",
    "#model_dir = 's3://{}/{}/output/'.format(bucket, prefix) # you need add an estimator argument with this too\n",
    "\n",
    "estimator = TensorFlow(entry_point=\"train.py\",\n",
    "                    source_dir=\"source_tfkeras\",\n",
    "                    role=role,\n",
    "                    py_version = 'py37',\n",
    "                    framework_version='2.4', # v2.5 is unsupported\n",
    "                    script_mode=True,\n",
    "                    train_instance_count=1,\n",
    "                    train_instance_type='ml.c5.xlarge')"
   ]
  },
  {
   "cell_type": "markdown",
   "metadata": {},
   "source": [
    "## Train the Estimator"
   ]
  },
  {
   "cell_type": "code",
   "execution_count": 33,
   "metadata": {},
   "outputs": [
    {
     "name": "stdout",
     "output_type": "stream",
     "text": [
      "2021-06-27 13:14:52 Starting - Starting the training job...\n",
      "2021-06-27 13:14:59 Starting - Launching requested ML instancesProfilerReport-1624799692: InProgress\n",
      "......\n",
      "2021-06-27 13:15:57 Starting - Preparing the instances for training......\n",
      "2021-06-27 13:17:09 Downloading - Downloading input data...\n",
      "2021-06-27 13:17:49 Training - Training image download completed. Training in progress.\u001b[34m2021-06-27 13:17:41.060732: W tensorflow/core/profiler/internal/smprofiler_timeline.cc:460] Initializing the SageMaker Profiler.\u001b[0m\n",
      "\u001b[34m2021-06-27 13:17:41.066198: W tensorflow/core/profiler/internal/smprofiler_timeline.cc:105] SageMaker Profiler is not enabled. The timeline writer thread will not be started, future recorded events will be dropped.\u001b[0m\n",
      "\u001b[34m2021-06-27 13:17:41.195500: W tensorflow/core/profiler/internal/smprofiler_timeline.cc:460] Initializing the SageMaker Profiler.\u001b[0m\n",
      "\u001b[34m2021-06-27 13:17:45,133 sagemaker-training-toolkit INFO     Imported framework sagemaker_tensorflow_container.training\u001b[0m\n",
      "\u001b[34m2021-06-27 13:17:45,140 sagemaker-training-toolkit INFO     No GPUs detected (normal if no gpus installed)\u001b[0m\n",
      "\u001b[34m2021-06-27 13:17:45,683 sagemaker-training-toolkit INFO     No GPUs detected (normal if no gpus installed)\u001b[0m\n",
      "\u001b[34m2021-06-27 13:17:45,697 sagemaker-training-toolkit INFO     No GPUs detected (normal if no gpus installed)\u001b[0m\n",
      "\u001b[34m2021-06-27 13:17:45,711 sagemaker-training-toolkit INFO     No GPUs detected (normal if no gpus installed)\u001b[0m\n",
      "\u001b[34m2021-06-27 13:17:45,721 sagemaker-training-toolkit INFO     Invoking user script\n",
      "\u001b[0m\n",
      "\u001b[34mTraining Env:\n",
      "\u001b[0m\n",
      "\u001b[34m{\n",
      "    \"additional_framework_parameters\": {},\n",
      "    \"channel_input_dirs\": {\n",
      "        \"train\": \"/opt/ml/input/data/train\"\n",
      "    },\n",
      "    \"current_host\": \"algo-1\",\n",
      "    \"framework_module\": \"sagemaker_tensorflow_container.training:main\",\n",
      "    \"hosts\": [\n",
      "        \"algo-1\"\n",
      "    ],\n",
      "    \"hyperparameters\": {\n",
      "        \"model_dir\": \"s3://sagemaker-us-east-1-286722933665/tensorflow-training-2021-06-27-13-14-52-016/model\"\n",
      "    },\n",
      "    \"input_config_dir\": \"/opt/ml/input/config\",\n",
      "    \"input_data_config\": {\n",
      "        \"train\": {\n",
      "            \"TrainingInputMode\": \"File\",\n",
      "            \"S3DistributionType\": \"FullyReplicated\",\n",
      "            \"RecordWrapperType\": \"None\"\n",
      "        }\n",
      "    },\n",
      "    \"input_dir\": \"/opt/ml/input\",\n",
      "    \"is_master\": true,\n",
      "    \"job_name\": \"tensorflow-training-2021-06-27-13-14-52-016\",\n",
      "    \"log_level\": 20,\n",
      "    \"master_hostname\": \"algo-1\",\n",
      "    \"model_dir\": \"/opt/ml/model\",\n",
      "    \"module_dir\": \"s3://sagemaker-us-east-1-286722933665/tensorflow-training-2021-06-27-13-14-52-016/source/sourcedir.tar.gz\",\n",
      "    \"module_name\": \"train\",\n",
      "    \"network_interface_name\": \"eth0\",\n",
      "    \"num_cpus\": 4,\n",
      "    \"num_gpus\": 0,\n",
      "    \"output_data_dir\": \"/opt/ml/output/data\",\n",
      "    \"output_dir\": \"/opt/ml/output\",\n",
      "    \"output_intermediate_dir\": \"/opt/ml/output/intermediate\",\n",
      "    \"resource_config\": {\n",
      "        \"current_host\": \"algo-1\",\n",
      "        \"hosts\": [\n",
      "            \"algo-1\"\n",
      "        ],\n",
      "        \"network_interface_name\": \"eth0\"\n",
      "    },\n",
      "    \"user_entry_point\": \"train.py\"\u001b[0m\n",
      "\u001b[34m}\n",
      "\u001b[0m\n",
      "\u001b[34mEnvironment variables:\n",
      "\u001b[0m\n",
      "\u001b[34mSM_HOSTS=[\"algo-1\"]\u001b[0m\n",
      "\u001b[34mSM_NETWORK_INTERFACE_NAME=eth0\u001b[0m\n",
      "\u001b[34mSM_HPS={\"model_dir\":\"s3://sagemaker-us-east-1-286722933665/tensorflow-training-2021-06-27-13-14-52-016/model\"}\u001b[0m\n",
      "\u001b[34mSM_USER_ENTRY_POINT=train.py\u001b[0m\n",
      "\u001b[34mSM_FRAMEWORK_PARAMS={}\u001b[0m\n",
      "\u001b[34mSM_RESOURCE_CONFIG={\"current_host\":\"algo-1\",\"hosts\":[\"algo-1\"],\"network_interface_name\":\"eth0\"}\u001b[0m\n",
      "\u001b[34mSM_INPUT_DATA_CONFIG={\"train\":{\"RecordWrapperType\":\"None\",\"S3DistributionType\":\"FullyReplicated\",\"TrainingInputMode\":\"File\"}}\u001b[0m\n",
      "\u001b[34mSM_OUTPUT_DATA_DIR=/opt/ml/output/data\u001b[0m\n",
      "\u001b[34mSM_CHANNELS=[\"train\"]\u001b[0m\n",
      "\u001b[34mSM_CURRENT_HOST=algo-1\u001b[0m\n",
      "\u001b[34mSM_MODULE_NAME=train\u001b[0m\n",
      "\u001b[34mSM_LOG_LEVEL=20\u001b[0m\n",
      "\u001b[34mSM_FRAMEWORK_MODULE=sagemaker_tensorflow_container.training:main\u001b[0m\n",
      "\u001b[34mSM_INPUT_DIR=/opt/ml/input\u001b[0m\n",
      "\u001b[34mSM_INPUT_CONFIG_DIR=/opt/ml/input/config\u001b[0m\n",
      "\u001b[34mSM_OUTPUT_DIR=/opt/ml/output\u001b[0m\n",
      "\u001b[34mSM_NUM_CPUS=4\u001b[0m\n",
      "\u001b[34mSM_NUM_GPUS=0\u001b[0m\n",
      "\u001b[34mSM_MODEL_DIR=/opt/ml/model\u001b[0m\n",
      "\u001b[34mSM_MODULE_DIR=s3://sagemaker-us-east-1-286722933665/tensorflow-training-2021-06-27-13-14-52-016/source/sourcedir.tar.gz\u001b[0m\n",
      "\u001b[34mSM_TRAINING_ENV={\"additional_framework_parameters\":{},\"channel_input_dirs\":{\"train\":\"/opt/ml/input/data/train\"},\"current_host\":\"algo-1\",\"framework_module\":\"sagemaker_tensorflow_container.training:main\",\"hosts\":[\"algo-1\"],\"hyperparameters\":{\"model_dir\":\"s3://sagemaker-us-east-1-286722933665/tensorflow-training-2021-06-27-13-14-52-016/model\"},\"input_config_dir\":\"/opt/ml/input/config\",\"input_data_config\":{\"train\":{\"RecordWrapperType\":\"None\",\"S3DistributionType\":\"FullyReplicated\",\"TrainingInputMode\":\"File\"}},\"input_dir\":\"/opt/ml/input\",\"is_master\":true,\"job_name\":\"tensorflow-training-2021-06-27-13-14-52-016\",\"log_level\":20,\"master_hostname\":\"algo-1\",\"model_dir\":\"/opt/ml/model\",\"module_dir\":\"s3://sagemaker-us-east-1-286722933665/tensorflow-training-2021-06-27-13-14-52-016/source/sourcedir.tar.gz\",\"module_name\":\"train\",\"network_interface_name\":\"eth0\",\"num_cpus\":4,\"num_gpus\":0,\"output_data_dir\":\"/opt/ml/output/data\",\"output_dir\":\"/opt/ml/output\",\"output_intermediate_dir\":\"/opt/ml/output/intermediate\",\"resource_config\":{\"current_host\":\"algo-1\",\"hosts\":[\"algo-1\"],\"network_interface_name\":\"eth0\"},\"user_entry_point\":\"train.py\"}\u001b[0m\n",
      "\u001b[34mSM_USER_ARGS=[\"--model_dir\",\"s3://sagemaker-us-east-1-286722933665/tensorflow-training-2021-06-27-13-14-52-016/model\"]\u001b[0m\n",
      "\u001b[34mSM_OUTPUT_INTERMEDIATE_DIR=/opt/ml/output/intermediate\u001b[0m\n",
      "\u001b[34mSM_CHANNEL_TRAIN=/opt/ml/input/data/train\u001b[0m\n",
      "\u001b[34mSM_HP_MODEL_DIR=s3://sagemaker-us-east-1-286722933665/tensorflow-training-2021-06-27-13-14-52-016/model\u001b[0m\n",
      "\u001b[34mPYTHONPATH=/opt/ml/code:/usr/local/bin:/usr/local/lib/python37.zip:/usr/local/lib/python3.7:/usr/local/lib/python3.7/lib-dynload:/usr/local/lib/python3.7/site-packages\n",
      "\u001b[0m\n",
      "\u001b[34mInvoking script with the following command:\n",
      "\u001b[0m\n",
      "\u001b[34m/usr/local/bin/python3.7 train.py --model_dir s3://sagemaker-us-east-1-286722933665/tensorflow-training-2021-06-27-13-14-52-016/model\n",
      "\n",
      "\u001b[0m\n",
      "\u001b[34m[2021-06-27 13:17:47.777 ip-10-0-93-3.ec2.internal:27 INFO utils.py:27] RULE_JOB_STOP_SIGNAL_FILENAME: None\u001b[0m\n",
      "\u001b[34m[2021-06-27 13:17:48.049 ip-10-0-93-3.ec2.internal:27 INFO profiler_config_parser.py:102] User has disabled profiler.\u001b[0m\n",
      "\u001b[34m[2021-06-27 13:17:48.050 ip-10-0-93-3.ec2.internal:27 INFO json_config.py:91] Creating hook from json_config at /opt/ml/input/config/debughookconfig.json.\u001b[0m\n",
      "\u001b[34m[2021-06-27 13:17:48.051 ip-10-0-93-3.ec2.internal:27 INFO hook.py:199] tensorboard_dir has not been set for the hook. SMDebug will not be exporting tensorboard summaries.\u001b[0m\n",
      "\u001b[34m[2021-06-27 13:17:48.051 ip-10-0-93-3.ec2.internal:27 INFO hook.py:253] Saving to /opt/ml/output/tensors\u001b[0m\n",
      "\u001b[34m[2021-06-27 13:17:48.052 ip-10-0-93-3.ec2.internal:27 INFO state_store.py:77] The checkpoint config file /opt/ml/input/config/checkpointconfig.json does not exist.\u001b[0m\n",
      "\u001b[34mEpoch 1/200\u001b[0m\n",
      "\u001b[34m[2021-06-27 13:17:48.163 ip-10-0-93-3.ec2.internal:27 INFO hook.py:413] Monitoring the collections: metrics, sm_metrics, losses\u001b[0m\n",
      "\u001b[34m2924/2924 - 10s - loss: 1542.1693\u001b[0m\n",
      "\u001b[34mEpoch 2/200\u001b[0m\n",
      "\u001b[34m2924/2924 - 11s - loss: 653.3876\u001b[0m\n",
      "\u001b[34mEpoch 3/200\u001b[0m\n",
      "\u001b[34m2924/2924 - 9s - loss: 498.4709\u001b[0m\n",
      "\u001b[34mEpoch 4/200\u001b[0m\n",
      "\u001b[34m2924/2924 - 9s - loss: 429.7960\u001b[0m\n",
      "\u001b[34mEpoch 5/200\u001b[0m\n",
      "\u001b[34m2924/2924 - 9s - loss: 371.4581\u001b[0m\n",
      "\u001b[34mEpoch 6/200\u001b[0m\n",
      "\u001b[34m2924/2924 - 9s - loss: 310.3312\u001b[0m\n",
      "\u001b[34mEpoch 7/200\u001b[0m\n",
      "\u001b[34m2924/2924 - 9s - loss: 240.0199\u001b[0m\n",
      "\u001b[34mEpoch 8/200\u001b[0m\n",
      "\u001b[34m2924/2924 - 9s - loss: 197.3169\u001b[0m\n",
      "\u001b[34mEpoch 9/200\u001b[0m\n",
      "\u001b[34m2924/2924 - 11s - loss: 173.6397\u001b[0m\n",
      "\u001b[34mEpoch 10/200\u001b[0m\n",
      "\u001b[34m2924/2924 - 9s - loss: 160.9177\u001b[0m\n",
      "\u001b[34mEpoch 11/200\u001b[0m\n",
      "\u001b[34m2924/2924 - 9s - loss: 142.4906\u001b[0m\n",
      "\u001b[34mEpoch 12/200\u001b[0m\n",
      "\u001b[34m2924/2924 - 9s - loss: 128.2222\u001b[0m\n",
      "\u001b[34mEpoch 13/200\u001b[0m\n",
      "\u001b[34m2924/2924 - 9s - loss: 119.6958\u001b[0m\n",
      "\u001b[34mEpoch 14/200\u001b[0m\n",
      "\u001b[34m2924/2924 - 9s - loss: 105.3658\u001b[0m\n",
      "\u001b[34mEpoch 15/200\u001b[0m\n",
      "\u001b[34m2924/2924 - 11s - loss: 101.9998\u001b[0m\n",
      "\u001b[34mEpoch 16/200\u001b[0m\n",
      "\u001b[34m2924/2924 - 9s - loss: 96.6406\u001b[0m\n",
      "\u001b[34mEpoch 17/200\u001b[0m\n",
      "\u001b[34m2924/2924 - 9s - loss: 92.6335\u001b[0m\n",
      "\u001b[34mEpoch 18/200\u001b[0m\n",
      "\u001b[34m2924/2924 - 9s - loss: 88.4668\u001b[0m\n",
      "\u001b[34mEpoch 19/200\u001b[0m\n",
      "\u001b[34m2924/2924 - 9s - loss: 82.8914\u001b[0m\n",
      "\u001b[34mEpoch 20/200\u001b[0m\n",
      "\u001b[34m2924/2924 - 9s - loss: 83.7374\u001b[0m\n",
      "\u001b[34mEpoch 21/200\u001b[0m\n",
      "\u001b[34m2924/2924 - 8s - loss: 82.2968\u001b[0m\n",
      "\u001b[34mEpoch 22/200\u001b[0m\n",
      "\u001b[34m2924/2924 - 11s - loss: 79.4103\u001b[0m\n",
      "\u001b[34mEpoch 23/200\u001b[0m\n",
      "\u001b[34m2924/2924 - 9s - loss: 79.0273\u001b[0m\n",
      "\u001b[34mEpoch 24/200\u001b[0m\n",
      "\u001b[34m2924/2924 - 9s - loss: 74.4585\u001b[0m\n",
      "\u001b[34mEpoch 25/200\u001b[0m\n",
      "\u001b[34m2924/2924 - 9s - loss: 70.4046\u001b[0m\n",
      "\u001b[34mEpoch 26/200\u001b[0m\n",
      "\u001b[34m2924/2924 - 9s - loss: 71.8582\u001b[0m\n",
      "\u001b[34mEpoch 27/200\u001b[0m\n",
      "\u001b[34m2924/2924 - 8s - loss: 67.1612\u001b[0m\n",
      "\u001b[34mEpoch 28/200\u001b[0m\n",
      "\u001b[34m2924/2924 - 11s - loss: 68.0367\u001b[0m\n",
      "\u001b[34mEpoch 29/200\u001b[0m\n",
      "\u001b[34m2924/2924 - 9s - loss: 62.4183\u001b[0m\n",
      "\u001b[34mEpoch 30/200\u001b[0m\n",
      "\u001b[34m2924/2924 - 9s - loss: 61.2480\u001b[0m\n",
      "\u001b[34mEpoch 31/200\u001b[0m\n",
      "\u001b[34m2924/2924 - 8s - loss: 55.9714\u001b[0m\n",
      "\u001b[34mEpoch 32/200\u001b[0m\n",
      "\u001b[34m2924/2924 - 9s - loss: 52.8275\u001b[0m\n",
      "\u001b[34mEpoch 33/200\u001b[0m\n",
      "\u001b[34m2924/2924 - 9s - loss: 54.3251\u001b[0m\n",
      "\u001b[34mEpoch 34/200\u001b[0m\n",
      "\u001b[34m2924/2924 - 9s - loss: 51.7602\u001b[0m\n",
      "\u001b[34mEpoch 35/200\u001b[0m\n",
      "\u001b[34m2924/2924 - 11s - loss: 49.2040\u001b[0m\n",
      "\u001b[34mEpoch 36/200\u001b[0m\n",
      "\u001b[34m2924/2924 - 9s - loss: 50.4395\u001b[0m\n",
      "\u001b[34mEpoch 37/200\u001b[0m\n",
      "\u001b[34m2924/2924 - 9s - loss: 48.0587\u001b[0m\n",
      "\u001b[34mEpoch 38/200\u001b[0m\n",
      "\u001b[34m2924/2924 - 9s - loss: 46.4785\u001b[0m\n",
      "\u001b[34mEpoch 39/200\u001b[0m\n",
      "\u001b[34m2924/2924 - 9s - loss: 48.7576\u001b[0m\n",
      "\u001b[34mEpoch 40/200\u001b[0m\n",
      "\u001b[34m2924/2924 - 9s - loss: 46.1870\u001b[0m\n",
      "\u001b[34mEpoch 41/200\u001b[0m\n",
      "\u001b[34m2924/2924 - 9s - loss: 43.0767\u001b[0m\n",
      "\u001b[34mEpoch 42/200\u001b[0m\n",
      "\u001b[34m2924/2924 - 11s - loss: 43.7976\u001b[0m\n",
      "\u001b[34mEpoch 43/200\u001b[0m\n",
      "\u001b[34m2924/2924 - 8s - loss: 41.7939\u001b[0m\n",
      "\u001b[34mEpoch 44/200\u001b[0m\n",
      "\u001b[34m2924/2924 - 9s - loss: 42.0904\u001b[0m\n",
      "\u001b[34mEpoch 45/200\u001b[0m\n",
      "\u001b[34m2924/2924 - 9s - loss: 40.5368\u001b[0m\n",
      "\u001b[34mEpoch 46/200\u001b[0m\n",
      "\u001b[34m2924/2924 - 9s - loss: 42.2023\u001b[0m\n",
      "\u001b[34mEpoch 47/200\u001b[0m\n",
      "\u001b[34m2924/2924 - 8s - loss: 40.9704\u001b[0m\n",
      "\u001b[34mEpoch 48/200\u001b[0m\n",
      "\u001b[34m2924/2924 - 11s - loss: 38.7157\u001b[0m\n",
      "\u001b[34mEpoch 49/200\u001b[0m\n",
      "\u001b[34m2924/2924 - 9s - loss: 39.9593\u001b[0m\n",
      "\u001b[34mEpoch 50/200\u001b[0m\n",
      "\u001b[34m2924/2924 - 8s - loss: 39.0689\u001b[0m\n",
      "\u001b[34mEpoch 51/200\u001b[0m\n",
      "\u001b[34m2924/2924 - 9s - loss: 38.2906\u001b[0m\n",
      "\u001b[34mEpoch 52/200\u001b[0m\n",
      "\u001b[34m2924/2924 - 9s - loss: 36.1927\u001b[0m\n",
      "\u001b[34mEpoch 53/200\u001b[0m\n",
      "\u001b[34m2924/2924 - 9s - loss: 36.7177\u001b[0m\n",
      "\u001b[34mEpoch 54/200\u001b[0m\n",
      "\u001b[34m2924/2924 - 9s - loss: 37.8473\u001b[0m\n",
      "\u001b[34mEpoch 55/200\u001b[0m\n",
      "\u001b[34m2924/2924 - 11s - loss: 35.3085\u001b[0m\n",
      "\u001b[34mEpoch 56/200\u001b[0m\n",
      "\u001b[34m2924/2924 - 9s - loss: 76.6961\u001b[0m\n",
      "\u001b[34mEpoch 57/200\u001b[0m\n",
      "\u001b[34m2924/2924 - 9s - loss: 48.7833\u001b[0m\n",
      "\u001b[34mEpoch 58/200\u001b[0m\n",
      "\u001b[34m2924/2924 - 9s - loss: 41.5623\u001b[0m\n",
      "\u001b[34mEpoch 59/200\u001b[0m\n",
      "\u001b[34m2924/2924 - 9s - loss: 40.3739\u001b[0m\n",
      "\u001b[34mEpoch 60/200\u001b[0m\n",
      "\u001b[34m2924/2924 - 8s - loss: 36.4813\u001b[0m\n",
      "\u001b[34mEpoch 61/200\u001b[0m\n",
      "\u001b[34m2924/2924 - 8s - loss: 37.3227\u001b[0m\n",
      "\u001b[34mEpoch 62/200\u001b[0m\n",
      "\u001b[34m2924/2924 - 11s - loss: 38.8329\u001b[0m\n",
      "\u001b[34mEpoch 63/200\u001b[0m\n",
      "\u001b[34m2924/2924 - 9s - loss: 34.7715\u001b[0m\n",
      "\u001b[34mEpoch 64/200\u001b[0m\n",
      "\u001b[34m2924/2924 - 8s - loss: 35.4290\u001b[0m\n",
      "\u001b[34mEpoch 65/200\u001b[0m\n",
      "\u001b[34m2924/2924 - 8s - loss: 34.8688\u001b[0m\n",
      "\u001b[34mEpoch 66/200\u001b[0m\n",
      "\u001b[34m2924/2924 - 9s - loss: 36.7679\u001b[0m\n",
      "\u001b[34mEpoch 67/200\u001b[0m\n",
      "\u001b[34m2924/2924 - 9s - loss: 34.0377\u001b[0m\n",
      "\u001b[34mEpoch 68/200\u001b[0m\n",
      "\u001b[34m2924/2924 - 11s - loss: 32.2461\u001b[0m\n",
      "\u001b[34mEpoch 69/200\u001b[0m\n",
      "\u001b[34m2924/2924 - 9s - loss: 31.4247\u001b[0m\n",
      "\u001b[34mEpoch 70/200\u001b[0m\n",
      "\u001b[34m2924/2924 - 9s - loss: 31.7460\u001b[0m\n",
      "\u001b[34mEpoch 71/200\u001b[0m\n",
      "\u001b[34m2924/2924 - 9s - loss: 31.9838\u001b[0m\n",
      "\u001b[34mEpoch 72/200\u001b[0m\n",
      "\u001b[34m2924/2924 - 9s - loss: 30.7428\u001b[0m\n",
      "\u001b[34mEpoch 73/200\u001b[0m\n",
      "\u001b[34m2924/2924 - 9s - loss: 30.0873\u001b[0m\n",
      "\u001b[34mEpoch 74/200\u001b[0m\n",
      "\u001b[34m2924/2924 - 9s - loss: 30.9418\u001b[0m\n",
      "\u001b[34mEpoch 75/200\u001b[0m\n",
      "\u001b[34m2924/2924 - 11s - loss: 28.1671\u001b[0m\n",
      "\u001b[34mEpoch 76/200\u001b[0m\n",
      "\u001b[34m2924/2924 - 9s - loss: 29.2910\u001b[0m\n",
      "\u001b[34mEpoch 77/200\u001b[0m\n",
      "\u001b[34m2924/2924 - 9s - loss: 28.5943\u001b[0m\n",
      "\u001b[34mEpoch 78/200\u001b[0m\n",
      "\u001b[34m2924/2924 - 9s - loss: 29.6434\u001b[0m\n",
      "\u001b[34mEpoch 79/200\u001b[0m\n",
      "\u001b[34m2924/2924 - 9s - loss: 27.0690\u001b[0m\n",
      "\u001b[34mEpoch 80/200\u001b[0m\n",
      "\u001b[34m2924/2924 - 9s - loss: 29.4067\u001b[0m\n",
      "\u001b[34mEpoch 81/200\u001b[0m\n",
      "\u001b[34m2924/2924 - 8s - loss: 32.0074\u001b[0m\n",
      "\u001b[34mEpoch 82/200\u001b[0m\n",
      "\u001b[34m2924/2924 - 11s - loss: 27.7767\u001b[0m\n",
      "\u001b[34mEpoch 83/200\u001b[0m\n",
      "\u001b[34m2924/2924 - 9s - loss: 29.3038\u001b[0m\n",
      "\u001b[34mEpoch 84/200\u001b[0m\n",
      "\u001b[34m2924/2924 - 9s - loss: 28.7802\u001b[0m\n",
      "\u001b[34mEpoch 85/200\u001b[0m\n",
      "\u001b[34m2924/2924 - 9s - loss: 26.4335\u001b[0m\n",
      "\u001b[34mEpoch 86/200\u001b[0m\n",
      "\u001b[34m2924/2924 - 9s - loss: 27.4829\u001b[0m\n",
      "\u001b[34mEpoch 87/200\u001b[0m\n",
      "\u001b[34m2924/2924 - 9s - loss: 25.4335\u001b[0m\n",
      "\u001b[34mEpoch 88/200\u001b[0m\n",
      "\u001b[34m2924/2924 - 11s - loss: 30.1762\u001b[0m\n",
      "\u001b[34mEpoch 89/200\u001b[0m\n",
      "\u001b[34m2924/2924 - 9s - loss: 29.4965\u001b[0m\n",
      "\u001b[34mEpoch 90/200\u001b[0m\n",
      "\u001b[34m2924/2924 - 9s - loss: 24.8422\u001b[0m\n",
      "\u001b[34mEpoch 91/200\u001b[0m\n",
      "\u001b[34m2924/2924 - 9s - loss: 24.7307\u001b[0m\n",
      "\u001b[34mEpoch 92/200\u001b[0m\n",
      "\u001b[34m2924/2924 - 8s - loss: 22.9965\u001b[0m\n",
      "\u001b[34mEpoch 93/200\u001b[0m\n",
      "\u001b[34m2924/2924 - 9s - loss: 22.5731\u001b[0m\n",
      "\u001b[34mEpoch 94/200\u001b[0m\n",
      "\u001b[34m2924/2924 - 8s - loss: 22.4519\u001b[0m\n",
      "\u001b[34mEpoch 95/200\u001b[0m\n",
      "\u001b[34m2924/2924 - 11s - loss: 23.3618\u001b[0m\n",
      "\u001b[34mEpoch 96/200\u001b[0m\n",
      "\u001b[34m2924/2924 - 9s - loss: 22.3321\u001b[0m\n",
      "\u001b[34mEpoch 97/200\u001b[0m\n",
      "\u001b[34m2924/2924 - 9s - loss: 21.3282\u001b[0m\n",
      "\u001b[34mEpoch 98/200\u001b[0m\n",
      "\u001b[34m2924/2924 - 9s - loss: 20.2329\u001b[0m\n",
      "\u001b[34mEpoch 99/200\u001b[0m\n",
      "\u001b[34m2924/2924 - 8s - loss: 20.7750\u001b[0m\n",
      "\u001b[34mEpoch 100/200\u001b[0m\n",
      "\u001b[34m2924/2924 - 9s - loss: 20.0263\u001b[0m\n",
      "\u001b[34mEpoch 101/200\u001b[0m\n",
      "\u001b[34m2924/2924 - 8s - loss: 20.1762\u001b[0m\n",
      "\u001b[34mEpoch 102/200\u001b[0m\n",
      "\u001b[34m2924/2924 - 11s - loss: 19.8947\u001b[0m\n",
      "\u001b[34mEpoch 103/200\u001b[0m\n",
      "\u001b[34m2924/2924 - 9s - loss: 20.2780\u001b[0m\n",
      "\u001b[34mEpoch 104/200\u001b[0m\n",
      "\u001b[34m2924/2924 - 9s - loss: 18.7785\u001b[0m\n",
      "\u001b[34mEpoch 105/200\u001b[0m\n",
      "\u001b[34m2924/2924 - 9s - loss: 18.8659\u001b[0m\n",
      "\u001b[34mEpoch 106/200\u001b[0m\n",
      "\u001b[34m2924/2924 - 9s - loss: 17.8903\u001b[0m\n",
      "\u001b[34mEpoch 107/200\u001b[0m\n",
      "\u001b[34m2924/2924 - 9s - loss: 19.4714\u001b[0m\n",
      "\u001b[34mEpoch 108/200\u001b[0m\n",
      "\u001b[34m2924/2924 - 10s - loss: 20.2452\u001b[0m\n",
      "\u001b[34mEpoch 109/200\u001b[0m\n",
      "\u001b[34m2924/2924 - 10s - loss: 19.2636\u001b[0m\n",
      "\u001b[34mEpoch 110/200\u001b[0m\n",
      "\u001b[34m2924/2924 - 9s - loss: 19.0062\u001b[0m\n",
      "\u001b[34mEpoch 111/200\u001b[0m\n",
      "\u001b[34m2924/2924 - 8s - loss: 17.3929\u001b[0m\n",
      "\u001b[34mEpoch 112/200\u001b[0m\n",
      "\u001b[34m2924/2924 - 9s - loss: 18.0091\u001b[0m\n",
      "\u001b[34mEpoch 113/200\u001b[0m\n",
      "\u001b[34m2924/2924 - 9s - loss: 18.1798\u001b[0m\n",
      "\u001b[34mEpoch 114/200\u001b[0m\n",
      "\u001b[34m2924/2924 - 9s - loss: 20.8200\u001b[0m\n",
      "\u001b[34mEpoch 115/200\u001b[0m\n",
      "\u001b[34m2924/2924 - 11s - loss: 19.1425\u001b[0m\n",
      "\u001b[34mEpoch 116/200\u001b[0m\n",
      "\u001b[34m2924/2924 - 9s - loss: 17.4179\u001b[0m\n",
      "\u001b[34mEpoch 117/200\u001b[0m\n",
      "\u001b[34m2924/2924 - 9s - loss: 16.9918\u001b[0m\n",
      "\u001b[34mEpoch 118/200\u001b[0m\n",
      "\u001b[34m2924/2924 - 9s - loss: 17.2117\u001b[0m\n",
      "\u001b[34mEpoch 119/200\u001b[0m\n",
      "\u001b[34m2924/2924 - 9s - loss: 17.9331\u001b[0m\n",
      "\u001b[34mEpoch 120/200\u001b[0m\n",
      "\u001b[34m2924/2924 - 9s - loss: 17.6539\u001b[0m\n",
      "\u001b[34mEpoch 121/200\u001b[0m\n",
      "\u001b[34m2924/2924 - 9s - loss: 17.6361\u001b[0m\n",
      "\u001b[34mEpoch 122/200\u001b[0m\n",
      "\u001b[34m2924/2924 - 10s - loss: 17.1298\u001b[0m\n",
      "\u001b[34mEpoch 123/200\u001b[0m\n",
      "\u001b[34m2924/2924 - 8s - loss: 27.4445\u001b[0m\n",
      "\u001b[34mEpoch 124/200\u001b[0m\n",
      "\u001b[34m2924/2924 - 9s - loss: 18.7596\u001b[0m\n",
      "\u001b[34mEpoch 125/200\u001b[0m\n",
      "\u001b[34m2924/2924 - 9s - loss: 18.2332\u001b[0m\n",
      "\u001b[34mEpoch 126/200\u001b[0m\n",
      "\u001b[34m2924/2924 - 9s - loss: 17.9722\u001b[0m\n",
      "\u001b[34mEpoch 127/200\u001b[0m\n",
      "\u001b[34m2924/2924 - 9s - loss: 16.3779\u001b[0m\n",
      "\u001b[34mEpoch 128/200\u001b[0m\n",
      "\u001b[34m2924/2924 - 11s - loss: 18.2715\u001b[0m\n",
      "\u001b[34mEpoch 129/200\u001b[0m\n",
      "\u001b[34m2924/2924 - 8s - loss: 17.5568\u001b[0m\n",
      "\u001b[34mEpoch 130/200\u001b[0m\n",
      "\u001b[34m2924/2924 - 8s - loss: 16.8277\u001b[0m\n",
      "\u001b[34mEpoch 131/200\u001b[0m\n",
      "\u001b[34m2924/2924 - 9s - loss: 17.2382\u001b[0m\n",
      "\u001b[34mEpoch 132/200\u001b[0m\n",
      "\u001b[34m2924/2924 - 8s - loss: 16.5910\u001b[0m\n",
      "\u001b[34mEpoch 133/200\u001b[0m\n",
      "\u001b[34m2924/2924 - 8s - loss: 15.9857\u001b[0m\n",
      "\u001b[34mEpoch 134/200\u001b[0m\n",
      "\u001b[34m2924/2924 - 9s - loss: 15.4488\u001b[0m\n",
      "\u001b[34mEpoch 135/200\u001b[0m\n",
      "\u001b[34m2924/2924 - 11s - loss: 16.1200\u001b[0m\n",
      "\u001b[34mEpoch 136/200\u001b[0m\n",
      "\u001b[34m2924/2924 - 9s - loss: 15.4001\u001b[0m\n",
      "\u001b[34mEpoch 137/200\u001b[0m\n",
      "\u001b[34m2924/2924 - 9s - loss: 18.0802\u001b[0m\n",
      "\u001b[34mEpoch 138/200\u001b[0m\n",
      "\u001b[34m2924/2924 - 9s - loss: 16.4201\u001b[0m\n",
      "\u001b[34mEpoch 139/200\u001b[0m\n",
      "\u001b[34m2924/2924 - 9s - loss: 19.0983\u001b[0m\n",
      "\u001b[34mEpoch 140/200\u001b[0m\n",
      "\u001b[34m2924/2924 - 9s - loss: 15.7327\u001b[0m\n",
      "\u001b[34mEpoch 141/200\u001b[0m\n",
      "\u001b[34m2924/2924 - 9s - loss: 16.8364\u001b[0m\n",
      "\u001b[34mEpoch 142/200\u001b[0m\n",
      "\u001b[34m2924/2924 - 11s - loss: 14.5932\u001b[0m\n",
      "\u001b[34mEpoch 143/200\u001b[0m\n",
      "\u001b[34m2924/2924 - 9s - loss: 16.7630\u001b[0m\n",
      "\u001b[34mEpoch 144/200\u001b[0m\n",
      "\u001b[34m2924/2924 - 9s - loss: 16.9527\u001b[0m\n",
      "\u001b[34mEpoch 145/200\u001b[0m\n",
      "\u001b[34m2924/2924 - 9s - loss: 18.2234\u001b[0m\n",
      "\u001b[34mEpoch 146/200\u001b[0m\n",
      "\u001b[34m2924/2924 - 9s - loss: 14.6836\u001b[0m\n",
      "\u001b[34mEpoch 147/200\u001b[0m\n",
      "\u001b[34m2924/2924 - 9s - loss: 14.0831\u001b[0m\n",
      "\u001b[34mEpoch 148/200\u001b[0m\n",
      "\u001b[34m2924/2924 - 11s - loss: 16.1792\u001b[0m\n",
      "\u001b[34mEpoch 149/200\u001b[0m\n",
      "\u001b[34m2924/2924 - 9s - loss: 14.1001\u001b[0m\n",
      "\u001b[34mEpoch 150/200\u001b[0m\n",
      "\u001b[34m2924/2924 - 9s - loss: 14.5404\u001b[0m\n",
      "\u001b[34mEpoch 151/200\u001b[0m\n",
      "\u001b[34m2924/2924 - 9s - loss: 14.1690\u001b[0m\n",
      "\u001b[34mEpoch 152/200\u001b[0m\n",
      "\u001b[34m2924/2924 - 9s - loss: 14.1876\u001b[0m\n",
      "\u001b[34mEpoch 153/200\u001b[0m\n",
      "\u001b[34m2924/2924 - 9s - loss: 15.5260\u001b[0m\n",
      "\u001b[34mEpoch 154/200\u001b[0m\n",
      "\u001b[34m2924/2924 - 9s - loss: 12.4367\u001b[0m\n",
      "\u001b[34mEpoch 155/200\u001b[0m\n",
      "\u001b[34m2924/2924 - 11s - loss: 14.4736\u001b[0m\n",
      "\u001b[34mEpoch 156/200\u001b[0m\n",
      "\u001b[34m2924/2924 - 8s - loss: 13.3416\u001b[0m\n",
      "\u001b[34mEpoch 157/200\u001b[0m\n",
      "\u001b[34m2924/2924 - 9s - loss: 15.2881\u001b[0m\n",
      "\u001b[34mEpoch 158/200\u001b[0m\n",
      "\u001b[34m2924/2924 - 9s - loss: 12.8973\u001b[0m\n",
      "\u001b[34mEpoch 159/200\u001b[0m\n",
      "\u001b[34m2924/2924 - 9s - loss: 14.0654\u001b[0m\n",
      "\u001b[34mEpoch 160/200\u001b[0m\n",
      "\u001b[34m2924/2924 - 9s - loss: 14.8560\u001b[0m\n",
      "\u001b[34mEpoch 161/200\u001b[0m\n",
      "\u001b[34m2924/2924 - 9s - loss: 13.3256\u001b[0m\n",
      "\u001b[34mEpoch 162/200\u001b[0m\n",
      "\u001b[34m2924/2924 - 10s - loss: 14.1856\u001b[0m\n",
      "\u001b[34mEpoch 163/200\u001b[0m\n",
      "\u001b[34m2924/2924 - 9s - loss: 14.8813\u001b[0m\n",
      "\u001b[34mEpoch 164/200\u001b[0m\n",
      "\u001b[34m2924/2924 - 9s - loss: 13.8218\u001b[0m\n",
      "\u001b[34mEpoch 165/200\u001b[0m\n",
      "\u001b[34m2924/2924 - 8s - loss: 13.2844\u001b[0m\n",
      "\u001b[34mEpoch 166/200\u001b[0m\n",
      "\u001b[34m2924/2924 - 9s - loss: 12.9793\u001b[0m\n",
      "\u001b[34mEpoch 167/200\u001b[0m\n",
      "\u001b[34m2924/2924 - 8s - loss: 12.1405\u001b[0m\n",
      "\u001b[34mEpoch 168/200\u001b[0m\n",
      "\u001b[34m2924/2924 - 11s - loss: 13.5496\u001b[0m\n",
      "\u001b[34mEpoch 169/200\u001b[0m\n",
      "\u001b[34m2924/2924 - 9s - loss: 14.3916\u001b[0m\n",
      "\u001b[34mEpoch 170/200\u001b[0m\n",
      "\u001b[34m2924/2924 - 9s - loss: 16.3681\u001b[0m\n",
      "\u001b[34mEpoch 171/200\u001b[0m\n",
      "\u001b[34m2924/2924 - 9s - loss: 13.8372\u001b[0m\n",
      "\u001b[34mEpoch 172/200\u001b[0m\n",
      "\u001b[34m2924/2924 - 9s - loss: 12.1937\u001b[0m\n",
      "\u001b[34mEpoch 173/200\u001b[0m\n",
      "\u001b[34m2924/2924 - 9s - loss: 16.8799\u001b[0m\n",
      "\u001b[34mEpoch 174/200\u001b[0m\n",
      "\u001b[34m2924/2924 - 9s - loss: 11.8283\u001b[0m\n",
      "\u001b[34mEpoch 175/200\u001b[0m\n",
      "\u001b[34m2924/2924 - 11s - loss: 13.1826\u001b[0m\n",
      "\u001b[34mEpoch 176/200\u001b[0m\n",
      "\u001b[34m2924/2924 - 9s - loss: 11.7290\u001b[0m\n",
      "\u001b[34mEpoch 177/200\u001b[0m\n",
      "\u001b[34m2924/2924 - 8s - loss: 12.6530\u001b[0m\n",
      "\u001b[34mEpoch 178/200\u001b[0m\n",
      "\u001b[34m2924/2924 - 9s - loss: 12.7066\u001b[0m\n",
      "\u001b[34mEpoch 179/200\u001b[0m\n",
      "\u001b[34m2924/2924 - 9s - loss: 14.2071\u001b[0m\n",
      "\u001b[34mEpoch 180/200\u001b[0m\n",
      "\u001b[34m2924/2924 - 8s - loss: 12.4253\u001b[0m\n",
      "\u001b[34mEpoch 181/200\u001b[0m\n",
      "\u001b[34m2924/2924 - 10s - loss: 11.5918\u001b[0m\n",
      "\u001b[34mEpoch 182/200\u001b[0m\n",
      "\u001b[34m2924/2924 - 11s - loss: 12.4802\u001b[0m\n",
      "\u001b[34mEpoch 183/200\u001b[0m\n",
      "\u001b[34m2924/2924 - 9s - loss: 10.9512\u001b[0m\n",
      "\u001b[34mEpoch 184/200\u001b[0m\n",
      "\u001b[34m2924/2924 - 9s - loss: 11.3719\u001b[0m\n",
      "\u001b[34mEpoch 185/200\u001b[0m\n",
      "\u001b[34m2924/2924 - 9s - loss: 13.0259\u001b[0m\n",
      "\u001b[34mEpoch 186/200\u001b[0m\n",
      "\u001b[34m2924/2924 - 9s - loss: 14.8025\u001b[0m\n",
      "\u001b[34mEpoch 187/200\u001b[0m\n",
      "\u001b[34m2924/2924 - 9s - loss: 11.3822\u001b[0m\n",
      "\u001b[34mEpoch 188/200\u001b[0m\n",
      "\u001b[34m2924/2924 - 11s - loss: 13.1679\u001b[0m\n",
      "\u001b[34mEpoch 189/200\u001b[0m\n",
      "\u001b[34m2924/2924 - 8s - loss: 11.0764\u001b[0m\n",
      "\u001b[34mEpoch 190/200\u001b[0m\n",
      "\u001b[34m2924/2924 - 9s - loss: 11.5126\u001b[0m\n",
      "\u001b[34mEpoch 191/200\u001b[0m\n",
      "\u001b[34m2924/2924 - 9s - loss: 11.0945\u001b[0m\n",
      "\u001b[34mEpoch 192/200\u001b[0m\n",
      "\u001b[34m2924/2924 - 9s - loss: 12.3983\u001b[0m\n",
      "\u001b[34mEpoch 193/200\u001b[0m\n",
      "\u001b[34m2924/2924 - 9s - loss: 12.8620\u001b[0m\n",
      "\u001b[34mEpoch 194/200\u001b[0m\n",
      "\u001b[34m2924/2924 - 9s - loss: 13.0274\u001b[0m\n",
      "\u001b[34mEpoch 195/200\u001b[0m\n",
      "\u001b[34m2924/2924 - 11s - loss: 9.8669\u001b[0m\n",
      "\u001b[34mEpoch 196/200\u001b[0m\n",
      "\u001b[34m2924/2924 - 9s - loss: 11.8284\u001b[0m\n",
      "\u001b[34mEpoch 197/200\u001b[0m\n",
      "\u001b[34m2924/2924 - 8s - loss: 11.0971\u001b[0m\n",
      "\u001b[34mEpoch 198/200\u001b[0m\n",
      "\u001b[34m2924/2924 - 9s - loss: 11.2105\u001b[0m\n",
      "\u001b[34mEpoch 199/200\u001b[0m\n",
      "\u001b[34m2924/2924 - 8s - loss: 13.1982\u001b[0m\n",
      "\u001b[34mEpoch 200/200\u001b[0m\n",
      "\u001b[34m2924/2924 - 8s - loss: 10.1511\u001b[0m\n",
      "\u001b[34mmodel saved\u001b[0m\n",
      "\u001b[34mModel: \"sequential\"\u001b[0m\n",
      "\u001b[34m_________________________________________________________________\u001b[0m\n",
      "\u001b[34mLayer (type)                 Output Shape              Param #   \u001b[0m\n",
      "\u001b[34m=================================================================\u001b[0m\n",
      "\u001b[34mdense (Dense)                (None, 25)                400       \u001b[0m\n",
      "\u001b[34m_________________________________________________________________\u001b[0m\n",
      "\u001b[34mdense_1 (Dense)              (None, 25)                650       \u001b[0m\n",
      "\u001b[34m_________________________________________________________________\u001b[0m\n",
      "\u001b[34mdense_2 (Dense)              (None, 25)                650       \u001b[0m\n",
      "\u001b[34m_________________________________________________________________\u001b[0m\n",
      "\u001b[34mdense_3 (Dense)              (None, 25)                650       \u001b[0m\n",
      "\u001b[34m_________________________________________________________________\u001b[0m\n",
      "\u001b[34mdense_4 (Dense)              (None, 1)                 26        \u001b[0m\n",
      "\u001b[34m=================================================================\u001b[0m\n",
      "\u001b[34mTotal params: 2,376\u001b[0m\n",
      "\u001b[34mTrainable params: 2,376\u001b[0m\n",
      "\u001b[34mNon-trainable params: 0\u001b[0m\n",
      "\u001b[34m_________________________________________________________________\u001b[0m\n",
      "\u001b[34mNone\u001b[0m\n",
      "\u001b[34m2021-06-27 13:17:46.125663: W tensorflow/core/profiler/internal/smprofiler_timeline.cc:460] Initializing the SageMaker Profiler.\u001b[0m\n",
      "\u001b[34m2021-06-27 13:17:46.125783: W tensorflow/core/profiler/internal/smprofiler_timeline.cc:105] SageMaker Profiler is not enabled. The timeline writer thread will not be started, future recorded events will be dropped.\u001b[0m\n",
      "\u001b[34m2021-06-27 13:17:46.152099: W tensorflow/core/profiler/internal/smprofiler_timeline.cc:460] Initializing the SageMaker Profiler.\u001b[0m\n",
      "\u001b[34m2021-06-27 13:47:54.511363: W tensorflow/python/util/util.cc:348] Sets are not currently considered sequences, but this may change in the future, so consider avoiding using them.\u001b[0m\n",
      "\u001b[34mINFO:tensorflow:Assets written to: s3://sagemaker-us-east-1-286722933665/tensorflow-training-2021-06-27-13-14-52-016/model/model_ann/assets\u001b[0m\n",
      "\u001b[34mINFO:tensorflow:Assets written to: s3://sagemaker-us-east-1-286722933665/tensorflow-training-2021-06-27-13-14-52-016/model/model_ann/assets\n",
      "\u001b[0m\n",
      "\u001b[34m2021-06-27 13:47:56,635 sagemaker_tensorflow_container.training WARNING  No model artifact is saved under path /opt/ml/model. Your training job will not save any model files to S3.\u001b[0m\n",
      "\u001b[34mFor details of how to construct your training script see:\u001b[0m\n",
      "\u001b[34mhttps://sagemaker.readthedocs.io/en/stable/using_tf.html#adapting-your-local-tensorflow-script\u001b[0m\n",
      "\u001b[34m2021-06-27 13:47:56,635 sagemaker-training-toolkit INFO     Reporting training SUCCESS\u001b[0m\n",
      "\n",
      "2021-06-27 13:48:18 Uploading - Uploading generated training model\n",
      "2021-06-27 13:48:18 Completed - Training job completed\n",
      "ProfilerReport-1624799692: NoIssuesFound\n",
      "Training seconds: 1863\n",
      "Billable seconds: 1863\n",
      "CPU times: user 6.29 s, sys: 298 ms, total: 6.59 s\n",
      "Wall time: 33min 42s\n"
     ]
    }
   ],
   "source": [
    "%%time\n",
    "# Train your estimator on S3 training data\n",
    "\n",
    "estimator.fit({'train': input_data})"
   ]
  },
  {
   "cell_type": "markdown",
   "metadata": {},
   "source": [
    "## Load the saved (updated) model"
   ]
  },
  {
   "cell_type": "code",
   "execution_count": 3,
   "metadata": {},
   "outputs": [
    {
     "name": "stdout",
     "output_type": "stream",
     "text": [
      "WARNING:tensorflow:From /home/ec2-user/anaconda3/envs/tensorflow_p36/cpu/lib/python3.6/site-packages/tensorflow_core/python/ops/resource_variable_ops.py:1781: calling BaseResourceVariable.__init__ (from tensorflow.python.ops.resource_variable_ops) with constraint is deprecated and will be removed in a future version.\n",
      "Instructions for updating:\n",
      "If using Keras pass *_constraint arguments to layers.\n",
      "Model: \"sequential\"\n",
      "_________________________________________________________________\n",
      "Layer (type)                 Output Shape              Param #   \n",
      "=================================================================\n",
      "dense (Dense)                multiple                  400       \n",
      "_________________________________________________________________\n",
      "dense_1 (Dense)              multiple                  650       \n",
      "_________________________________________________________________\n",
      "dense_2 (Dense)              multiple                  650       \n",
      "_________________________________________________________________\n",
      "dense_3 (Dense)              multiple                  650       \n",
      "_________________________________________________________________\n",
      "dense_4 (Dense)              multiple                  26        \n",
      "=================================================================\n",
      "Total params: 2,376\n",
      "Trainable params: 2,376\n",
      "Non-trainable params: 0\n",
      "_________________________________________________________________\n"
     ]
    }
   ],
   "source": [
    "#model_ann = tf.keras.models.load_model(model_location)\n",
    "model_ann = tf.keras.models.load_model('s3://sagemaker-us-east-1-286722933665/tensorflow-training-2021-06-27-13-14-52-016/model/model_ann', compile=False)\n",
    "model_ann.compile(optimizer='adam', loss='mean_squared_error')\n",
    "\n",
    "# Check its architecture\n",
    "model_ann.summary()"
   ]
  },
  {
   "cell_type": "markdown",
   "metadata": {},
   "source": [
    "### Test the model on updated test data"
   ]
  },
  {
   "cell_type": "code",
   "execution_count": 4,
   "metadata": {},
   "outputs": [],
   "source": [
    "test_data = pd.read_csv('data/new_train_test/test.csv', header=None, names=None, low_memory=False, skiprows=1, skipinitialspace=True)"
   ]
  },
  {
   "cell_type": "code",
   "execution_count": 5,
   "metadata": {},
   "outputs": [],
   "source": [
    "# Measured values are in the last column\n",
    "test_x = test_data.iloc[:,:15].values\n",
    "test_y = test_data.iloc[:,-1].values"
   ]
  },
  {
   "cell_type": "code",
   "execution_count": 6,
   "metadata": {},
   "outputs": [
    {
     "name": "stdout",
     "output_type": "stream",
     "text": [
      "WARNING:tensorflow:OMP_NUM_THREADS is no longer used by the default Keras config. To configure the number of threads, use tf.config.threading APIs.\n"
     ]
    },
    {
     "data": {
      "text/plain": [
       "array([[ -80.57808  ],\n",
       "       [   2.8151126],\n",
       "       [ -18.26722  ],\n",
       "       ...,\n",
       "       [-119.03011  ],\n",
       "       [-118.24425  ],\n",
       "       [ -30.034775 ]], dtype=float32)"
      ]
     },
     "execution_count": 6,
     "metadata": {},
     "output_type": "execute_result"
    }
   ],
   "source": [
    "# Make predictions\n",
    "y_pred = model_ann.predict(test_x)\n",
    "y_pred"
   ]
  },
  {
   "cell_type": "markdown",
   "metadata": {},
   "source": [
    "#### Compare predictions side by side"
   ]
  },
  {
   "cell_type": "code",
   "execution_count": 7,
   "metadata": {},
   "outputs": [
    {
     "name": "stdout",
     "output_type": "stream",
     "text": [
      "[[ -80.58  -89.87]\n",
      " [   2.82    3.18]\n",
      " [ -18.27  -18.43]\n",
      " ...\n",
      " [-119.03 -118.93]\n",
      " [-118.24 -119.53]\n",
      " [ -30.03  -34.59]]\n"
     ]
    }
   ],
   "source": [
    "np.set_printoptions(precision=2)\n",
    "print(np.concatenate((y_pred.reshape(len(y_pred),1), test_y.reshape(len(test_y),1)),1))"
   ]
  },
  {
   "cell_type": "markdown",
   "metadata": {},
   "source": [
    "#### Compare model prediction using confusion matrix because we have true values of whether prediction has occured or not. \n",
    "collision distance > 0: No collision\n",
    "collision distance <= 0: Collision "
   ]
  },
  {
   "cell_type": "code",
   "execution_count": 8,
   "metadata": {},
   "outputs": [
    {
     "data": {
      "text/plain": [
       "4949"
      ]
     },
     "execution_count": 8,
     "metadata": {},
     "output_type": "execute_result"
    }
   ],
   "source": [
    "col_pred = []\n",
    "for pred in y_pred:\n",
    "  if pred > 0:\n",
    "    col_pred.append(0)\n",
    "  else:\n",
    "    col_pred.append(1)\n",
    "\n",
    "len(col_pred)"
   ]
  },
  {
   "cell_type": "code",
   "execution_count": 9,
   "metadata": {},
   "outputs": [
    {
     "data": {
      "text/plain": [
       "4949"
      ]
     },
     "execution_count": 9,
     "metadata": {},
     "output_type": "execute_result"
    }
   ],
   "source": [
    "col_true = []\n",
    "for pred in test_y:\n",
    "  if pred > 0:\n",
    "    col_true.append(0)\n",
    "  else:\n",
    "    col_true.append(1)\n",
    "\n",
    "len(col_true)"
   ]
  },
  {
   "cell_type": "code",
   "execution_count": 10,
   "metadata": {},
   "outputs": [
    {
     "name": "stdout",
     "output_type": "stream",
     "text": [
      "[[1607   58]\n",
      " [   8 3276]]\n",
      "0.986663972519701\n"
     ]
    }
   ],
   "source": [
    "from sklearn.metrics import confusion_matrix, accuracy_score\n",
    "cm = confusion_matrix(col_pred, col_true)\n",
    "print(cm)\n",
    "print(accuracy_score(col_pred, col_true))"
   ]
  },
  {
   "cell_type": "markdown",
   "metadata": {},
   "source": [
    "As can be seen from the confusion matrix above, the accuracy is now 98.66% for 4949 variations which is really good and desirable."
   ]
  },
  {
   "cell_type": "markdown",
   "metadata": {},
   "source": [
    "Next we predict collision distances for new observations from new vehicle prototypes and for vehicle speeds outside the range of what was used for training the model. This is a short (validation) dataset but it will test the effectiveness of the model outside the training range. Due the new training data points, we expect the prediction accuracy to be better than before."
   ]
  },
  {
   "cell_type": "code",
   "execution_count": 11,
   "metadata": {},
   "outputs": [],
   "source": [
    "validation_data = pd.read_csv('data/train_test/validation_test.csv', header=None, names=None, low_memory=False, skiprows=1, skipinitialspace=True)"
   ]
  },
  {
   "cell_type": "code",
   "execution_count": 12,
   "metadata": {},
   "outputs": [],
   "source": [
    "val_x = validation_data.iloc[:,:15].values\n",
    "val_y = validation_data.iloc[:,15].values"
   ]
  },
  {
   "cell_type": "code",
   "execution_count": 13,
   "metadata": {},
   "outputs": [],
   "source": [
    "val_pred = model_ann.predict(val_x)\n",
    "col_pred = []\n",
    "for pred in val_pred:\n",
    "  if pred > 0:\n",
    "    col_pred.append(0)\n",
    "  else:\n",
    "    col_pred.append(1)"
   ]
  },
  {
   "cell_type": "code",
   "execution_count": 14,
   "metadata": {},
   "outputs": [
    {
     "name": "stdout",
     "output_type": "stream",
     "text": [
      "[[20  0]\n",
      " [ 0 14]]\n",
      "1.0\n"
     ]
    }
   ],
   "source": [
    "from sklearn.metrics import confusion_matrix, accuracy_score\n",
    "cm = confusion_matrix(col_pred, val_y)\n",
    "print(cm)\n",
    "print(accuracy_score(col_pred, val_y))"
   ]
  },
  {
   "cell_type": "code",
   "execution_count": 15,
   "metadata": {},
   "outputs": [
    {
     "name": "stdout",
     "output_type": "stream",
     "text": [
      "[[ 28.6   26.22   0.  ]\n",
      " [ 15.46  14.85   0.  ]\n",
      " [ -4.19  -4.58   1.  ]\n",
      " [-46.25 -45.45   1.  ]\n",
      " [-80.33 -77.95   1.  ]\n",
      " [101.35 103.78   0.  ]\n",
      " [ 91.85  95.84   0.  ]\n",
      " [ 76.94  82.72   0.  ]\n",
      " [ 42.43  53.31   0.  ]\n",
      " [ 24.04  33.27   0.  ]\n",
      " [ 51.31  49.15   0.  ]\n",
      " [ 39.15  39.53   0.  ]\n",
      " [ 23.29  23.     0.  ]\n",
      " [-16.16 -14.69   1.  ]\n",
      " [-39.58 -41.12   1.  ]\n",
      " [-69.59 -70.15   1.  ]\n",
      " [-84.08 -86.82   1.  ]\n",
      " [ 88.72  89.38   0.  ]\n",
      " [ 79.47  79.01   0.  ]\n",
      " [ 62.01  61.01   0.  ]\n",
      " [ 27.26  21.85   0.  ]\n",
      " [ -2.93  -5.59   1.  ]\n",
      " [-27.47 -36.63   1.  ]\n",
      " [-37.6  -53.69   1.  ]\n",
      " [ 34.43  31.91   0.  ]\n",
      " [ 21.35  22.74   0.  ]\n",
      " [  6.6    8.24   0.  ]\n",
      " [-32.26 -26.44   1.  ]\n",
      " [-53.38 -49.58   1.  ]\n",
      " [ 38.33  32.56   0.  ]\n",
      " [ 26.9   23.6    0.  ]\n",
      " [ 12.81   9.42   0.  ]\n",
      " [-19.68 -24.66   1.  ]\n",
      " [-34.03 -47.43   1.  ]]\n"
     ]
    }
   ],
   "source": [
    "val_y_dist = validation_data.iloc[:, 16].values\n",
    "print(np.concatenate((val_pred.reshape(len(val_pred),1), val_y_dist.reshape(len(val_y_dist),1), val_y.reshape(len(val_y),1),),1))\n",
    "# First column: predicted dist to collision, second column: simulated dist to collision, third column: binary value if collision occured or not"
   ]
  },
  {
   "cell_type": "markdown",
   "metadata": {},
   "source": [
    "Observations"
   ]
  },
  {
   "cell_type": "markdown",
   "metadata": {},
   "source": [
    "<b> As we can see from the confusion matrix, all predictions of collisions (or not) are now all correct. The prediction erros in 'dist to collision' is lesser than before, or in other words the model has improved and works really well for new vehicle data. </b>"
   ]
  },
  {
   "cell_type": "markdown",
   "metadata": {},
   "source": [
    "The ANN model can also be deployed (which can be accessed by a web application) with the following command\n",
    "\n",
    "predictor = estimator.deploy(initial_instance_count=1, instance_type='ml.t2.medium')"
   ]
  },
  {
   "cell_type": "markdown",
   "metadata": {},
   "source": [
    "# Recommendation"
   ]
  },
  {
   "cell_type": "markdown",
   "metadata": {},
   "source": [
    "We can now use the ANN model to recommend values of features such that collision does not occur. This allows the user to quickly explore effects of different features and to arrive at optimal initial vehicle parameters for the given edgecase scenario, thus giving a head start to the development process."
   ]
  },
  {
   "cell_type": "markdown",
   "metadata": {},
   "source": [
    "## Demo Audi R8"
   ]
  },
  {
   "cell_type": "markdown",
   "metadata": {},
   "source": [
    "Collision @speed: 150 kph @road_mu: 0.7"
   ]
  },
  {
   "cell_type": "markdown",
   "metadata": {},
   "source": [
    "#### Parameter: traffic object distance (obj_dist)"
   ]
  },
  {
   "cell_type": "markdown",
   "metadata": {},
   "source": [
    "Task: Predict traffic object distance at which collision doesn't occur in this situation"
   ]
  },
  {
   "cell_type": "code",
   "execution_count": 58,
   "metadata": {},
   "outputs": [
    {
     "name": "stdout",
     "output_type": "stream",
     "text": [
      "For the Audi R8 - the predicted traffic object distance at which collision does not occur for target vehicle speed 150 kph is:  113.0 m\n"
     ]
    }
   ],
   "source": [
    "# Varying obj_dist\n",
    "target_speed = 150 # in kph\n",
    "react_time = 0.2 # driver braking react time\n",
    "road_mu = 0.7\n",
    "obj_dist = 110\n",
    "test_feature = [1424.2, 2.267, obj_dist, react_time, road_mu, target_speed, 0.03, 3.5, 5.5, 3.5, 25, 0.12, 14, 0.12, 45]\n",
    "obj_dist_max = 150\n",
    "obj_dist_min = 40 \n",
    "full_range = np.arange(obj_dist_min, obj_dist_max, 0.5 )\n",
    "\n",
    "safe_range_audi = []\n",
    "df = pd.DataFrame()\n",
    "\n",
    "for dist in full_range:\n",
    "    test_feature[2] = dist\n",
    "    series = pd.Series(test_feature)\n",
    "    df = df.append(series, ignore_index=True)\n",
    "    \n",
    "features = df.to_numpy()\n",
    "predictions_audi = model_ann.predict(features)\n",
    "\n",
    "for i in range(0, len(full_range)):\n",
    "    if predictions_audi[i] > 0:\n",
    "        safe_range_audi.append(full_range[i])\n",
    "\n",
    "print('For the Audi R8 - the predicted traffic object distance at which collision does not occur for target vehicle speed', target_speed, 'kph is: ', safe_range_audi[0] , 'm')"
   ]
  },
  {
   "cell_type": "code",
   "execution_count": 60,
   "metadata": {},
   "outputs": [
    {
     "data": {
      "image/png": "[encoded data removed]",
      "text/plain": [
       "<Figure size 1120x480 with 1 Axes>"
      ]
     },
     "metadata": {
      "needs_background": "light"
     },
     "output_type": "display_data"
    }
   ],
   "source": [
    "# Plot Probablity of collision Vs Sensor Range for Audi R8 @150 kph\n",
    "import matplotlib.pyplot as plt\n",
    "\n",
    "y_audi = predictions_audi\n",
    "x = full_range\n",
    "x_ticks = np.arange(obj_dist_min, obj_dist_max, 5)\n",
    "y_ticks = np.arange(-200, 200, 10)\n",
    "\n",
    "x_real = [40,50,60,70,80,90,100,110,120,130,140,150]\n",
    "y_real = [-75.59,-65.59,-55.59,-45.59,-35.59,-25.59,-15.59,-5.59, 4.4, 14.4, 24.4, 34.4]\n",
    "\n",
    "y_ref = [0.5]*len(x)\n",
    "x_ref = [safe_range_audi[0]]*len(y_audi)\n",
    "\n",
    "plt.figure(1, figsize=(14, 6), dpi=80)\n",
    "plt.xlabel('Object distance from vehicle when detected (m)', fontsize=12, color='green')\n",
    "plt.ylabel('Distance to collision', fontsize=12, color='green')\n",
    "plt.title('Distance to collision Vs Object distance (Audi R8) @150 kph @road_mu: 0.7', fontsize=14, color='green')\n",
    "plt.xticks(x_ticks)\n",
    "plt.yticks(y_ticks)\n",
    "plt.plot(x, y_audi, linewidth=2, label=\"predicted\")\n",
    "plt.plot(x, y_ref, linewidth=1, linestyle='dashed', color='orange')\n",
    "plt.plot(x_ref, y_audi, linewidth=1, linestyle='dashed', color='orange')\n",
    "plt.plot(x_real, y_real, label=\"ground truth\")\n",
    "plt.scatter(safe_range_audi[0], 0)\n",
    "plt.scatter(115, 0, color='red') # sensor range when actual collision occurs\n",
    "plt.annotate(\"Actual collision\", xy=(115,0), xytext=(130, -6), arrowprops=dict(facecolor=\"black\", width=0.2, headwidth=4, shrink=0.1))\n",
    "plt.legend(loc = 'upper left')\n",
    "plt.show()"
   ]
  },
  {
   "cell_type": "markdown",
   "metadata": {},
   "source": [
    "From the plot above, it can be seen that the accuracy in predicting the vehcile's distance to collision or in other words the recommended safety distance before a collision in a given condition is very high for a broad speed range. The trend is quite linear."
   ]
  },
  {
   "cell_type": "markdown",
   "metadata": {},
   "source": [
    "#### Parameter: Brakes (Pist_f.area)"
   ]
  },
  {
   "cell_type": "markdown",
   "metadata": {},
   "source": [
    "Task: Predict vehicle front brake piston area (m^2) at which collision doesn't occur in the given condition"
   ]
  },
  {
   "cell_type": "code",
   "execution_count": 81,
   "metadata": {},
   "outputs": [
    {
     "name": "stdout",
     "output_type": "stream",
     "text": [
      "For the Audi R8 - the front brake piston area (m^2) at which collision does not occur for target vehicle speed 150 kph is:  17.99999999999997 m^2\n"
     ]
    }
   ],
   "source": [
    "# Varying pf_area\n",
    "body_mass = 1424.2\n",
    "cogx = 2.267\n",
    "target_speed = 150 # in kph\n",
    "react_time = 0.2 # driver braking react time\n",
    "road_mu = 0.7\n",
    "mc_area = 3.5\n",
    "boo_ampli = 5.5\n",
    "pf_area = 25\n",
    "obj_dist = 118\n",
    "pedal_ratio = 3.5\n",
    "tire_rr = 0.03\n",
    "test_feature = [body_mass, cogx, obj_dist, react_time, road_mu, target_speed, tire_rr, pedal_ratio, boo_ampli, mc_area, pf_area, 0.12, 14, 0.12, 45]\n",
    "max_val = 30\n",
    "min_val = 10 \n",
    "full_range = np.arange(min_val, max_val, 0.1)\n",
    "\n",
    "safe_val_audi = []\n",
    "df = pd.DataFrame()\n",
    "\n",
    "for val in full_range:\n",
    "    test_feature[10] = val\n",
    "    series = pd.Series(test_feature)\n",
    "    df = df.append(series, ignore_index=True)\n",
    "    \n",
    "features = df.to_numpy()\n",
    "predictions_audi = model_ann.predict(features)\n",
    "\n",
    "for i in range(0, len(full_range)):\n",
    "    if predictions_audi[i] > 0:\n",
    "        safe_val_audi.append(full_range[i])\n",
    "\n",
    "print('For the Audi R8 - the front brake piston area (m^2) at which collision does not occur for target vehicle speed', target_speed, 'kph is: ', min(safe_val_audi), 'm^2')"
   ]
  },
  {
   "cell_type": "code",
   "execution_count": 56,
   "metadata": {},
   "outputs": [
    {
     "data": {
      "image/png": "[encoded data removed]",
      "text/plain": [
       "<Figure size 1120x480 with 1 Axes>"
      ]
     },
     "metadata": {
      "needs_background": "light"
     },
     "output_type": "display_data"
    }
   ],
   "source": [
    "# Plot Probablity of collision Vs front brake piston area for Audi R8 @150 kph\n",
    "import matplotlib.pyplot as plt\n",
    "\n",
    "y_audi = predictions_audi\n",
    "x = full_range\n",
    "\n",
    "x_real = range(10, 31)\n",
    "y_real = [-26.915, -21.083, -15.73, -10.79, -6.233, -2, 1.9, 5.5, 3.03, 2.1, 2.2, 2.24, 2.28, 2.32, 2.36, 2.4, 2.44, 2.48, 2.52, 2.55, 2.588]\n",
    "\n",
    "y_ref = [0.5]*len(x)\n",
    "x_ref = [safe_val_audi[0]]*len(y_audi)\n",
    "\n",
    "plt.figure(1, figsize=(14, 6), dpi=80)\n",
    "plt.xlabel('front brake piston area (m^2)', fontsize=12, color='green')\n",
    "plt.ylabel('Distance to collision', fontsize=12, color='green')\n",
    "plt.title('Collision probability Vs Front brake piston area (Audi R8) @150 kph @road_mu: 0.7', fontsize=14, color='green')\n",
    "\n",
    "plt.plot(x, y_audi, linewidth=2, label=\"predicted\")\n",
    "plt.plot(x, y_ref, linewidth=1, linestyle='dashed', color='orange')\n",
    "plt.plot(x_ref, y_audi, linewidth=1, linestyle='dashed', color='orange')\n",
    "plt.plot(x_real, y_real, label=\"ground truth\")\n",
    "plt.scatter(safe_val_audi[0], 0)\n",
    "plt.scatter(15.5, 0, color='red') # sensor range when actual collision occurs\n",
    "plt.annotate(\"Actual collision\", xy=(15.5,0), xytext=(12.5, 2), arrowprops=dict(facecolor=\"black\", width=0.2, headwidth=4, shrink=0.1))\n",
    "plt.legend()\n",
    "plt.show()"
   ]
  },
  {
   "cell_type": "markdown",
   "metadata": {},
   "source": [
    "In the non-linear graph above it can be seen that recommendation for brake piston area is not as high as desired. This is expected because the dataset covers a short range of this brake parameter. This means, for a better recommendation accuracy here, we will require more data points covering a broader range of brake parameters.\n",
    "Interesting, the shape of the two curves suggest the model has captured the brake system dynamics, which is a good sign."
   ]
  },
  {
   "cell_type": "markdown",
   "metadata": {},
   "source": [
    "#### Parameter: Road mu"
   ]
  },
  {
   "cell_type": "markdown",
   "metadata": {},
   "source": [
    "Task: Predict road mu at which collision doesn't occur in the given condition"
   ]
  },
  {
   "cell_type": "code",
   "execution_count": 83,
   "metadata": {},
   "outputs": [
    {
     "name": "stdout",
     "output_type": "stream",
     "text": [
      "For the Audi R8 - the raod mu at which collision does not occur for target vehicle speed 150 kph is:  0.6100000000000003\n"
     ]
    }
   ],
   "source": [
    "# Varying road_mu\n",
    "body_mass = 1424.2\n",
    "cogx = 2.267\n",
    "target_speed = 150 # in kph\n",
    "react_time = 0.2 # driver braking react time\n",
    "road_mu = 0.7\n",
    "mc_area = 3.5\n",
    "boo_ampli = 5.5\n",
    "pf_area = 25\n",
    "obj_dist = 130\n",
    "pedal_ratio = 3.5\n",
    "tire_rr = 0.03\n",
    "test_feature = [body_mass, cogx, obj_dist, react_time, road_mu, target_speed, tire_rr, pedal_ratio, boo_ampli, mc_area, pf_area, 0.12, 14, 0.12, 45]\n",
    "max_val = 1.2\n",
    "min_val = 0.3 \n",
    "full_range = np.arange(min_val, max_val, 0.01)\n",
    "\n",
    "safe_val_audi = []\n",
    "df = pd.DataFrame()\n",
    "\n",
    "for val in full_range:\n",
    "    test_feature[4] = val\n",
    "    series = pd.Series(test_feature)\n",
    "    df = df.append(series, ignore_index=True)\n",
    "    \n",
    "features = df.to_numpy()\n",
    "predictions_audi = model_ann.predict(features)\n",
    "\n",
    "for i in range(0, len(full_range)):\n",
    "    if predictions_audi[i] > 0:\n",
    "        safe_val_audi.append(full_range[i])\n",
    "\n",
    "print('For the Audi R8 - the raod mu at which collision does not occur for target vehicle speed', target_speed, 'kph is: ', min(safe_val_audi))"
   ]
  },
  {
   "cell_type": "code",
   "execution_count": 84,
   "metadata": {},
   "outputs": [
    {
     "data": {
      "image/png": "[encoded data removed]",
      "text/plain": [
       "<Figure size 1120x480 with 1 Axes>"
      ]
     },
     "metadata": {
      "needs_background": "light"
     },
     "output_type": "display_data"
    }
   ],
   "source": [
    "# Plot Probablity of collision Vs front brake piston area for Audi R8 @150 kph\n",
    "import matplotlib.pyplot as plt\n",
    "\n",
    "y_audi = predictions_audi\n",
    "x = full_range\n",
    "\n",
    "x_real = [0.4,0.5,0.6,0.7,0.8,0.9,1.0,1.1,1.2]\n",
    "y_real = [-60.87, -26, -2.482, 14.4167, 27.175, 38.213, 46.40, 49.84, 52.65]\n",
    "\n",
    "y_ref = [0.5]*len(x)\n",
    "x_ref = [safe_val_audi[0]]*len(y_audi)\n",
    "\n",
    "plt.figure(1, figsize=(14, 6), dpi=80)\n",
    "plt.xlabel('Road friction coefficient', fontsize=12, color='green')\n",
    "plt.ylabel('Distance to collision', fontsize=12, color='green')\n",
    "plt.title('Collision probability Vs road mu @150 kph @road_mu: 0.7', fontsize=14, color='green')\n",
    "\n",
    "plt.plot(x, y_audi, linewidth=2, label=\"predicted\")\n",
    "plt.plot(x, y_ref, linewidth=1, linestyle='dashed', color='orange')\n",
    "plt.plot(x_ref, y_audi, linewidth=1, linestyle='dashed', color='orange')\n",
    "plt.plot(x_real, y_real, label=\"ground truth\")\n",
    "plt.scatter(safe_val_audi[0], 0)\n",
    "plt.scatter(0.61, 0, color='red') # sensor range when actual collision occurs\n",
    "plt.annotate(\"Actual collision\", xy=(0.61,0), xytext=(0.4, 2), arrowprops=dict(facecolor=\"black\", width=0.2, headwidth=4, shrink=0.1))\n",
    "plt.legend()\n",
    "plt.show()"
   ]
  },
  {
   "cell_type": "markdown",
   "metadata": {},
   "source": [
    "The plot above shows how non-linear the relation between braking distance and road_mu is. The model has captured the effects really well and the predicted road_mu value @collision in this case is very accurate. \n",
    "Interesting to note is that below road_mu: 0.4 (outside the training data range) the prediction accuracy deviates heavily. To capture system's behaviour below road_mu:0.4, we will require to train the model on new data covering that feature range."
   ]
  },
  {
   "cell_type": "markdown",
   "metadata": {},
   "source": [
    "What is worth noting is, the training dataset was dervied from variations of feature sets in a generic vehicle (Demo Tesla) and now we are able to successfully deploy the model trained with that data on totally new vehicle models (e.g. Demo Audi R8 here)"
   ]
  },
  {
   "cell_type": "code",
   "execution_count": null,
   "metadata": {},
   "outputs": [],
   "source": []
  }
 ],
 "metadata": {
  "kernelspec": {
   "display_name": "Python 3",
   "language": "python",
   "name": "python3"
  },
  "language_info": {
   "codemirror_mode": {
    "name": "ipython",
    "version": 3
   },
   "file_extension": ".py",
   "mimetype": "text/x-python",
   "name": "python",
   "nbconvert_exporter": "python",
   "pygments_lexer": "ipython3",
   "version": "3.8.5"
  }
 },
 "nbformat": 4,
 "nbformat_minor": 5
}
